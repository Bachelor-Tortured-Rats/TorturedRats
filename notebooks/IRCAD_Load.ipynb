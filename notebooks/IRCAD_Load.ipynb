{
 "cells": [
  {
   "attachments": {},
   "cell_type": "markdown",
   "metadata": {
    "pycharm": {
     "name": "#%% md\n"
    }
   },
   "source": [
    "## Data loading"
   ]
  },
  {
   "cell_type": "code",
   "execution_count": 20,
   "metadata": {
    "pycharm": {
     "name": "#%%\n"
    }
   },
   "outputs": [],
   "source": [
    "import os\n",
    "import pydicom\n",
    "import matplotlib.pyplot as plt\n",
    "import numpy as np\n",
    "import matplotlib.animation as animation\n",
    "\n",
    "def get_slice_mask_path(base_dir, patient_id):\n",
    "    ### FROM https://github.com/NusLuoKe/IRCADb #TODO\n",
    "\n",
    "    slice_path_list = []\n",
    "    mask_path_list = []\n",
    "    venoussystem_path_list = []\n",
    "    artery_path_list = []\n",
    "\n",
    "    patient_dicom_path = \"3Dircadb1.\" + str(patient_id) + \"/PATIENT_DICOM\"\n",
    "    mask_dicom_path = \"3Dircadb1.\" + str(patient_id) + \"/MASKS_DICOM/liver\"\n",
    "    venoussystem_dicom_path = \"3Dircadb1.\" + str(patient_id) + \"/MASKS_DICOM/venoussystem\"\n",
    "    artery_dicom_path = \"3Dircadb1.\" + str(patient_id) + \"/MASKS_DICOM/artery\"\n",
    "\n",
    "    \n",
    "    slice_path = os.path.join(base_dir, patient_dicom_path)\n",
    "    mask_path = os.path.join(base_dir, mask_dicom_path)\n",
    "    venoussystem_path = os.path.join(base_dir, venoussystem_dicom_path)\n",
    "    artery_path = os.path.join(base_dir, artery_dicom_path)\n",
    "\n",
    "    for slice in os.listdir(slice_path):\n",
    "        single_slice_path = os.path.join(slice_path, slice)\n",
    "        if os.path.basename(single_slice_path)[0:5] == \"image\":\n",
    "            slice_path_list.append(single_slice_path)\n",
    "\n",
    "\n",
    "    for mask in os.listdir(mask_path):\n",
    "        single_mask_path = os.path.join(mask_path, mask)\n",
    "        if os.path.basename(single_mask_path)[0:5] == \"image\":\n",
    "            mask_path_list.append(single_mask_path) \n",
    "    \n",
    "    for venoussystem in os.listdir(venoussystem_path):\n",
    "        single_venoussystem_path = os.path.join(venoussystem_path, venoussystem)\n",
    "        if os.path.basename(single_venoussystem_path)[0:5] == \"image\":\n",
    "            venoussystem_path_list.append(single_venoussystem_path) \n",
    "    \n",
    "    for artery in os.listdir(artery_path):\n",
    "        single_artery_path = os.path.join(artery_path, artery)\n",
    "        if os.path.basename(single_artery_path)[0:5] == \"image\":\n",
    "            artery_path_list.append(single_artery_path) \n",
    "\n",
    "    # argssorts the elements based on the last number\n",
    "    sorted_indexes =  np.array([int(element.split('_')[-1]) for element in slice_path_list])\n",
    "    sorted_indexes = sorted_indexes.argsort()\n",
    "\n",
    "    # reorders based on the new sorting\n",
    "    slice_path_list = [slice_path_list[i] for i in sorted_indexes]    \n",
    "    mask_path_list = [mask_path_list[i] for i in sorted_indexes]\n",
    "    venoussystem_path_list = [venoussystem_path_list[i] for i in sorted_indexes]\n",
    "    artery_path_list = [artery_path_list[i] for i in sorted_indexes]\n",
    "\n",
    "    return slice_path_list, mask_path_list, venoussystem_path_list, artery_path_list\n"
   ]
  },
  {
   "attachments": {},
   "cell_type": "markdown",
   "metadata": {
    "pycharm": {
     "name": "#%% md\n"
    }
   },
   "source": [
    "## Cropping"
   ]
  },
  {
   "cell_type": "code",
   "execution_count": 37,
   "metadata": {
    "pycharm": {
     "name": "#%%\n"
    }
   },
   "outputs": [],
   "source": [
    "def load_Dicom(file_list):\n",
    "    files = []\n",
    "\n",
    "    for file in file_list:\n",
    "        files.append(pydicom.dcmread(file).pixel_array)\n",
    "\n",
    "    return np.array(files)\n",
    "\n",
    "\n",
    "def mask_slice_segmentation(slices, masks, segmentations):\n",
    "    \n",
    "    none_empty_slices_index = []\n",
    "    # masks all slices\n",
    "    for i in range(slices.shape[0]):\n",
    "        slices[i,:,:] = np.where(masks[i,:,:] == 255, slices[i,:,:], 0) \n",
    "        masks[i,:,:] = np.where(masks[i,:,:] == 255, masks[i,:,:], 0) \n",
    "        segmentations[i,:,:] = np.where(masks[i,:,:] == 255, segmentations[i,:,:], 0) \n",
    "\n",
    "        if np.sum(slices[i,:,:])!= 0:\n",
    "            none_empty_slices_index.append(i)\n",
    "\n",
    "    # stores the width and height of the mask\n",
    "    axis0_first_global = np.Inf\n",
    "    axis0_last_global = 0\n",
    "    axis1_first_global = np.Inf\n",
    "    axis1_last_global = 0\n",
    "\n",
    "    # Calculates the width and height of the mask\n",
    "    for mask in masks:\n",
    "        nonzeros =  np.nonzero(mask)\n",
    "\n",
    "        # stops if there is no mask\n",
    "        if len(nonzeros[0]) == 0 or len(nonzeros[1]) == 0:\n",
    "            continue\n",
    "\n",
    "        axis0_first = np.min(nonzeros[0])\n",
    "        axis0_last = np.max(nonzeros[0])\n",
    "        axis1_first = np.min(nonzeros[1])\n",
    "        axis1_last = np.max(nonzeros[1])\n",
    "\n",
    "        if axis0_first_global > axis0_first:\n",
    "            axis0_first_global = axis0_first\n",
    "        \n",
    "        if axis0_last_global < axis0_last:\n",
    "            axis0_last_global = axis0_last\n",
    "\n",
    "        if axis1_first_global > axis1_first:\n",
    "            axis1_first_global = axis1_first\n",
    "        \n",
    "        if axis1_last_global < axis1_last:\n",
    "            axis1_last_global = axis1_last\n",
    "\n",
    "    # slices to the width and height of the mask, and drops empty slices\n",
    "    slices = slices[none_empty_slices_index,axis0_first_global:axis0_last_global,axis1_first_global:axis1_last_global]\n",
    "    masks = masks[none_empty_slices_index,axis0_first_global:axis0_last_global,axis1_first_global:axis1_last_global]\n",
    "    segmentations = segmentations[none_empty_slices_index,axis0_first_global:axis0_last_global,axis1_first_global:axis1_last_global]\n",
    "\n",
    "\n",
    "\n",
    "    return slices, masks, segmentations\n",
    "\n"
   ]
  },
  {
   "attachments": {},
   "cell_type": "markdown",
   "metadata": {
    "pycharm": {
     "name": "#%% md\n"
    }
   },
   "source": [
    "## Visualization"
   ]
  },
  {
   "cell_type": "code",
   "execution_count": 46,
   "metadata": {
    "pycharm": {
     "name": "#%%\n"
    }
   },
   "outputs": [],
   "source": [
    "\n",
    "slice_path_list, mask_path_list, venoussystem_path_list, artery_path_list = get_slice_mask_path(\"/Users/christian/Downloads/3Dircadb1\", patient_id=1)\n",
    "\n",
    "slice_list = load_Dicom(slice_path_list)\n",
    "mask_list = load_Dicom(mask_path_list)\n",
    "venoussystem_list = load_Dicom(venoussystem_path_list)\n",
    "artery_list = load_Dicom(artery_path_list)\n",
    "segmentation_list =  np.where(venoussystem_list + artery_list != 0, 1,0)\n",
    "\n",
    "slices, masks, segmentations = mask_slice_segmentation(slice_list, mask_list, segmentation_list)"
   ]
  },
  {
   "cell_type": "code",
   "execution_count": 47,
   "metadata": {
    "pycharm": {
     "name": "#%%\n"
    }
   },
   "outputs": [
    {
     "data": {
      "text/plain": [
       "<matplotlib.image.AxesImage at 0x12fc98310>"
      ]
     },
     "execution_count": 47,
     "metadata": {},
     "output_type": "execute_result"
    },
    {
     "data": {
      "image/png": "[encoded data removed]",
      "text/plain": [
       "<Figure size 432x288 with 1 Axes>"
      ]
     },
     "metadata": {
      "needs_background": "light"
     },
     "output_type": "display_data"
    }
   ],
   "source": [
    "image_number = 23\n",
    "\n",
    "PATIENT_DICOM = slices[image_number,:,:]\n",
    "MASKS_DICOM = segmentations[image_number,:,:]\n",
    "\n",
    "DICOM = (1*PATIENT_DICOM)/np.max(PATIENT_DICOM) + MASKS_DICOM\n",
    "\n",
    "plt.imshow(DICOM)"
   ]
  },
  {
   "cell_type": "code",
   "execution_count": 48,
   "metadata": {
    "pycharm": {
     "name": "#%%\n"
    }
   },
   "outputs": [
    {
     "data": {
      "image/png": "[encoded data removed]",
      "text/plain": [
       "<Figure size 432x288 with 1 Axes>"
      ]
     },
     "metadata": {
      "needs_background": "light"
     },
     "output_type": "display_data"
    }
   ],
   "source": [
    "\n",
    "fig, ax = plt.subplots()\n",
    "ims = []\n",
    "for i in range(len(slices)):\n",
    "\n",
    "    PATIENT_DICOM = slices[i,:,:]\n",
    "    MASKS_DICOM = segmentations[i,:,:]\n",
    "    DICOM = PATIENT_DICOM/np.max(PATIENT_DICOM) + MASKS_DICOM\n",
    "\n",
    "    im = ax.imshow(DICOM, animated=True)\n",
    "    if i == 0:\n",
    "        ax.imshow(DICOM)  # show an initial one first\n",
    "    ims.append([im])\n",
    "\n",
    "ani = animation.ArtistAnimation(fig, ims, interval=50, blit=True,\n",
    "                                repeat_delay=1000)\n",
    "\n",
    "ani.save(\"slices.mp4\")"
   ]
  },
  {
   "cell_type": "code",
   "execution_count": 36,
   "metadata": {
    "pycharm": {
     "name": "#%%\n"
    }
   },
   "outputs": [
    {
     "name": "stdout",
     "output_type": "stream",
     "text": [
      "[0]\n"
     ]
    }
   ],
   "source": [
    "print(np.unique(slice_list[1,:,:]))"
   ]
  },
  {
   "cell_type": "code",
   "execution_count": null,
   "metadata": {
    "pycharm": {
     "name": "#%%\n"
    }
   },
   "outputs": [],
   "source": []
  }
 ],
 "metadata": {
  "kernelspec": {
   "display_name": "nativeT",
   "language": "python",
   "name": "python3"
  },
  "language_info": {
   "codemirror_mode": {
    "name": "ipython",
    "version": 3
   },
   "file_extension": ".py",
   "mimetype": "text/x-python",
   "name": "python",
   "nbconvert_exporter": "python",
   "pygments_lexer": "ipython3",
   "version": "3.9.10"
  },
  "orig_nbformat": 4,
  "vscode": {
   "interpreter": {
    "hash": "7cb5458f2f0bd5e805e73361f32c712161565351c2a22afde273b50d5eb5b94a"
   }
  }
 },
 "nbformat": 4,
 "nbformat_minor": 2
}