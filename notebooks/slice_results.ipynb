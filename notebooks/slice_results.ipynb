{
 "cells": [
  {
   "cell_type": "code",
   "execution_count": null,
   "id": "ef3710da-d385-41f0-b714-6c373cf305f8",
   "metadata": {},
   "outputs": [],
   "source": [
    "print(ø)"
   ]
  },
  {
   "cell_type": "code",
   "execution_count": 7,
   "id": "4de189ea-935e-4d22-a6fa-b7706a2811c9",
   "metadata": {},
   "outputs": [
    {
     "name": "stdout",
     "output_type": "stream",
     "text": [
      "IRCAD_Load.ipynb\t     save_interactive_volume_slicer.py\n",
      "Untitled.ipynb\t\t     slice_results.ipynb\n",
      "__pycache__\t\t     spleen_segmentation_3d.ipynb\n",
      "hepaticDataExploration.csv   test_performance_analysis.ipynb\n",
      "hepatic_visualization.ipynb  volvizplotly.py\n",
      "patches_retinal.ipynb\t     wandb_data.pkl\n",
      "plotly_visualization.ipynb   wandb_data_old.pkl\n",
      "rat3.ipynb\n"
     ]
    }
   ],
   "source": [
    "!ls"
   ]
  },
  {
   "cell_type": "markdown",
   "id": "7cb6f5a1-ab8c-4f85-94e0-0e834edc408c",
   "metadata": {
    "editable": true,
    "slideshow": {
     "slide_type": ""
    },
    "tags": []
   },
   "source": [
    "#Imports and setup"
   ]
  },
  {
   "cell_type": "code",
   "execution_count": 4,
   "id": "f025f907-82b3-4c0a-9ccc-6cd78f27d347",
   "metadata": {},
   "outputs": [
    {
     "ename": "SyntaxError",
     "evalue": "invalid syntax (2906151893.py, line 1)",
     "output_type": "error",
     "traceback": [
      "\u001b[0;36m  Cell \u001b[0;32mIn[4], line 1\u001b[0;36m\u001b[0m\n\u001b[0;31m    cd ..\u001b[0m\n\u001b[0m        ^\u001b[0m\n\u001b[0;31mSyntaxError\u001b[0m\u001b[0;31m:\u001b[0m invalid syntax\n"
     ]
    }
   ],
   "source": [
    "cd ..\n",
    "# goes back to home folder"
   ]
  },
  {
   "cell_type": "code",
   "execution_count": 25,
   "id": "53ed2470-71c9-4a96-9a22-0b2160a4cbd1",
   "metadata": {
    "editable": true,
    "slideshow": {
     "slide_type": ""
    },
    "tags": []
   },
   "outputs": [],
   "source": [
    "import pandas as pd\n",
    "import numpy as np\n",
    "import matplotlib.pyplot as plt\n",
    "import torch\n",
    "from tqdm.notebook import tqdm\n",
    "from monai.transforms import (\n",
    "    AsDiscreted,\n",
    "    Activationsd,\n",
    "    Compose,\n",
    "    Invertd,\n",
    ")\n",
    "from monai.inferers import sliding_window_inference\n",
    "from monai.data import decollate_batch\n",
    "\n",
    "from src.data.hepatic_dataset import val_transforms\n",
    "from src.models.unet_model import load_unet"
   ]
  },
  {
   "cell_type": "code",
   "execution_count": 99,
   "id": "1bdcd714-973b-42bf-bffe-1a74150b3d61",
   "metadata": {},
   "outputs": [],
   "source": [
    "# What models do we need to make inference from?\n",
    "models_dict = {\n",
    "    \"final_3drpl_inc_enc_lp_1.0\" : \"models/finetune-kfold/model_16753090.pth\",\n",
    "    \"final_3drpl_inc_enc_lp_0.01\" : \"models/finetune-kfold/model_16753060.pth\",\n",
    "    \"final_transfer_inc_enc_lp_1.0\": \"models/finetune-kfold/model_16761135.pth\"\n",
    "}\n",
    "\n",
    "# Only increasing learning rates\n",
    "models_list = [{\n",
    "                    \"3drpl_lp_0.01\" : \"../models/finetune-kfold/model_16753060.pth\",\n",
    "                    \"transfer_lp_0.01\": \"../models/finetune-kfold/model_16761102.pth\", \n",
    "                    \"random_lp_0.01\" : \"../models/finetune-kfold/model_16752008.pth\", \n",
    "                },\n",
    "                    {\n",
    "                    \"3drpl_lp_0.02\" : \"../models/finetune-kfold/model_16753065.pth\", \n",
    "                    \"transfer_lp_0.02\": \"../models/finetune-kfold/model_16761108.pth\", \n",
    "                    \"random_lp_0.02\" : \"../models/finetune-kfold/model_16752014.pth\", \n",
    "                    },\n",
    "               {\n",
    "                   \"3drpl_lp_0.03\" : \"../models/finetune-kfold/model_16753070.pth\", \n",
    "                    \"transfer_lp_0.03\": \"../models/finetune-kfold/model_16761114.pth\", \n",
    "                    \"random_lp_0.03\" : \"../models/finetune-kfold/model_16752019.pth\", \n",
    "               },\n",
    "                {\n",
    "                    \"3drpl_lp_0.05\" : \"../models/finetune-kfold/model_16753075.pth\", \n",
    "                    \"transfer_lp_0.05\": \"../models/finetune-kfold/model_16761119.pth\", \n",
    "                    \"random_lp_0.05\" : \"../models/finetune-kfold/model_16752026.pth\", \n",
    "                    },\n",
    "               \n",
    "               {\n",
    "                    \"3drpl_lp_0.07\" : \"../models/finetune-kfold/model_16753078.pth\",\n",
    "                    \"transfer_lp_0.07\": \"../models/finetune-kfold/model_16772244.pth\",\n",
    "                    \"random_lp_0.07\" : \"../models/finetune-kfold/model_16752027.pth\",\n",
    "                    },\n",
    "                    \n",
    "                {\n",
    "                    \"3drpl_lp_0.10\" : \"../models/finetune-kfold/model_16753081.pth\",\n",
    "                    \"transfer_lp_0.10\": \"../models/finetune-kfold/model_16761129.pth\",\n",
    "                    \"random_lp_0.10\" : \"../models/finetune-kfold/model_16752034.pth\",\n",
    "                    },\n",
    "               \n",
    "               {\n",
    "                \"3drpl_lp_1.0\" : \"../models/finetune-kfold/model_16753090.pth\",\n",
    "                \"transfer_lp_1.0\": \"../models/finetune-kfold/model_16761135.pth\",\n",
    "                \"random_lp_1.0\" : \"../models/finetune-kfold/model_16752039.pth\",   \n",
    "               },\n",
    "              ]\n",
    "\n",
    "# Only increasing learning rates\n",
    "models_list_updated = [{\n",
    "                    \"3drpl_lp_0.01\" : \"../models/finetune-kfold/model_16753060.pth\",\n",
    "                    \"transfer_lp_0.01\": \"../models/finetune-kfold/model_16761105.pth\", \n",
    "                    \"random_lp_0.01\" : \"../models/finetune-kfold/model_16752009.pth\", \n",
    "                },\n",
    "                    {\n",
    "                    \"3drpl_lp_0.02\" : \"../models/finetune-kfold/model_16753065.pth\", \n",
    "                    \"transfer_lp_0.02\": \"../models/finetune-kfold/model_16761110.pth\",\n",
    "                    \"random_lp_0.02\" : \"../models/finetune-kfold/model_16752015.pth\", \n",
    "                    },\n",
    "               {\n",
    "                   \"3drpl_lp_0.03\" : \"../models/finetune-kfold/model_16753070.pth\", \n",
    "                    \"transfer_lp_0.03\": \"../models/finetune-kfold/model_16761116.pth\", \n",
    "                    \"random_lp_0.03\" : \"../models/finetune-kfold/model_16752021.pth\",\n",
    "               },\n",
    "                {\n",
    "                    \"3drpl_lp_0.05\" : \"../models/finetune-kfold/model_16753075.pth\", \n",
    "                    \"transfer_lp_0.05\": \"../models/finetune-kfold/model_16761121.pth\", \n",
    "                    \"random_lp_0.05\" : \"../models/finetune-kfold/model_16752026.pth\", \n",
    "                    },\n",
    "               \n",
    "               {\n",
    "                    \"3drpl_lp_0.07\" : \"../models/finetune-kfold/model_16753080.pth\",\n",
    "                    \"transfer_lp_0.07\": \"../models/finetune-kfold/model_16761126.pth\",\n",
    "                    \"random_lp_0.07\" : \"../models/finetune-kfold/model_16752031.pth\",\n",
    "                    },\n",
    "                    \n",
    "                {\n",
    "                    \"3drpl_lp_0.10\" : \"../models/finetune-kfold/model_16753085.pth\",\n",
    "                    \"transfer_lp_0.10\": \"../models/finetune-kfold/model_16761131.pth\",\n",
    "                    \"random_lp_0.10\" : \"../models/finetune-kfold/model_16752036.pth\",\n",
    "                    },\n",
    "               \n",
    "               {\n",
    "                \"3drpl_lp_1.0\" : \"../models/finetune-kfold/model_16753090.pth\",\n",
    "                \"transfer_lp_1.0\": \"../models/finetune-kfold/model_16761137.pth\",\n",
    "                \"random_lp_1.0\" : \"../models/finetune-kfold/model_16752041.pth\",   \n",
    "               },\n",
    "              ]"
   ]
  },
  {
   "cell_type": "code",
   "execution_count": 9,
   "id": "e3eeee79-64b7-4c83-ad14-aeda62bb3499",
   "metadata": {},
   "outputs": [
    {
     "name": "stdout",
     "output_type": "stream",
     "text": [
      "IRCAD_Load.ipynb             save_interactive_volume_slicer.py\n",
      "Untitled.ipynb               slice_results.ipynb\n",
      "\u001b[0m\u001b[38;5;27m__pycache__\u001b[0m/                 spleen_segmentation_3d.ipynb\n",
      "hepaticDataExploration.csv   test_performance_analysis.ipynb\n",
      "hepatic_visualization.ipynb  volvizplotly.py\n",
      "patches_retinal.ipynb        wandb_data.pkl\n",
      "plotly_visualization.ipynb   wandb_data_old.pkl\n",
      "rat3.ipynb\n"
     ]
    }
   ],
   "source": [
    "ls"
   ]
  },
  {
   "cell_type": "markdown",
   "id": "06ce3030-1024-4f04-9a6b-143f7cda7c99",
   "metadata": {},
   "source": [
    "# Functions"
   ]
  },
  {
   "cell_type": "code",
   "execution_count": 144,
   "id": "f6a49be9-35df-4cc9-9a90-2ec66b2a24bf",
   "metadata": {},
   "outputs": [],
   "source": [
    "# loads single image\n",
    "device = 'cpu'\n",
    "\n",
    "# images to load\n",
    "image_data_list = [\n",
    "                    {'image': f'/dtu/3d-imaging-center/courses/02510/data/MSD/Task08_HepaticVessel/imagesTr/hepaticvessel_00{i}.nii.gz', \n",
    "                     'label': f'/dtu/3d-imaging-center/courses/02510/data/MSD/Task08_HepaticVessel/labelsTr/hepaticvessel_00{i}.nii.gz'}\n",
    "                    for i in [4]\n",
    "                  ]"
   ]
  },
  {
   "cell_type": "code",
   "execution_count": 149,
   "id": "a4754f3c-5fc0-4656-8243-854e85e5e749",
   "metadata": {},
   "outputs": [],
   "source": [
    "roi_size = (160, 160, 160)\n",
    "sw_batch_size = 4\n",
    "\n",
    "scan = image_data_list[0]\n",
    "scan_transformed = val_transforms(scan)\n",
    "\n",
    "# compute inferences, right now stores only single slices\n",
    "predictions = []\n",
    "\n",
    "for lp_model_dict in models_list_updated:\n",
    "    \n",
    "    models = [load_unet(value,device=device)[0] for value in lp_model_dict.values()]\n",
    "\n",
    "    # loops over each model in the label proportion\n",
    "    lp_predictions = [] # Will store predictions from models in order: 3d-rpl, transfer, random\n",
    "    for model in models:\n",
    "        model.eval()\n",
    "        with torch.no_grad():\n",
    "            prediction = sliding_window_inference(scan_transformed[\"image\"].unsqueeze(0), roi_size, sw_batch_size, model, sw_device=device)\n",
    "            lp_predictions.append(torch.argmax(prediction, dim=1)[0, :, :, 60])\n",
    "\n",
    "    predictions.append(lp_predictions)"
   ]
  },
  {
   "cell_type": "code",
   "execution_count": 150,
   "id": "3515a1ad-16bb-439b-9420-2345f701b902",
   "metadata": {},
   "outputs": [],
   "source": [
    "def plot_2D(predictions, scan, transform, device = 'cpu',depth=20):\n",
    "\n",
    "    # Set titles for each column\n",
    "    col_titles = ['Image', 'Label','Threshold','3D-RPL', 'Transfer', 'Random']\n",
    "    row_titles = ['1% LP','2% LP', '3% LP', '5% LP', '7% LP', '10% LP', '100% LP']\n",
    "    roi_size = (160, 160, 160)\n",
    "    sw_batch_size = 4\n",
    "    \n",
    "    # create plot    \n",
    "    #plt.axis('off')\n",
    "    \n",
    "    # create plot    \n",
    "    plt.figure(figsize=(36, 30))  # Set the figure size to be larger\n",
    "    fig, axs = plt.subplots(nrows=7, ncols=6, gridspec_kw={'hspace': 0.15, 'wspace': -0.5})\n",
    "    #plt.tight_layout()\n",
    "\n",
    "    scan_transformed = transform(scan)\n",
    "\n",
    "    row = 0\n",
    "    # Plot each prediction\n",
    "    \n",
    "    for lp_predictions in predictions:\n",
    "        col = 0\n",
    "\n",
    "        # Plot image\n",
    "        axs[row, 0].imshow(np.rot90(scan_transformed['image'][0,:,:,depth]), cmap='gray')\n",
    "    \n",
    "        # Plot label\n",
    "        axs[row, 1].imshow(np.rot90(scan_transformed['label'][0,:,:,depth]), cmap='gray')\n",
    "\n",
    "        # Plot threshold\n",
    "        lower_threshold = 0.4\n",
    "        upper_threshold = 0.49\n",
    "        threshold_img = torch.logical_and(scan_transformed['image'][0,:,:,depth] >= lower_threshold, scan_transformed['image'][0,:,:,depth]<= upper_threshold)     \n",
    "        axs[row, col + 2].imshow(np.rot90(threshold_img.byte()), cmap='gray')\n",
    "\n",
    "        # For each model prediction\n",
    "        for i, model_prediction in enumerate(lp_predictions):\n",
    "            axs[row, col+3+i].imshow(np.rot90(model_prediction), cmap = 'gray')\n",
    "        \n",
    "        axs[row, 0].set_ylabel(row_titles[row], rotation=0, labelpad=30, fontsize = 8)\n",
    "        row += 1\n",
    "\n",
    "    for i, ax in enumerate(axs[0]):\n",
    "        ax.set_title(f'{col_titles[i]}', loc='center', pad=10, fontsize=8)\n",
    "\n",
    "    # Remove axis ticks and labels\n",
    "    for ax in axs.flatten():\n",
    "        ax.set_xticks([])\n",
    "        ax.set_yticks([])\n",
    "        ax.set_xticklabels([])\n",
    "        ax.set_yticklabels([])\n",
    " \n",
    "    plt.savefig('Slices.png', dpi = 500, bbox_inches='tight')\n",
    "    "
   ]
  },
  {
   "cell_type": "code",
   "execution_count": 151,
   "id": "6dfed226-eae2-4e63-a636-1e80b7197ba1",
   "metadata": {},
   "outputs": [
    {
     "data": {
      "text/plain": [
       "<Figure size 3600x3000 with 0 Axes>"
      ]
     },
     "metadata": {},
     "output_type": "display_data"
    },
    {
     "data": {
      "image/png": "[encoded data removed]",
      "text/plain": [
       "<Figure size 640x480 with 42 Axes>"
      ]
     },
     "metadata": {},
     "output_type": "display_data"
    }
   ],
   "source": [
    "plot_2D(predictions, scan, transform=val_transforms, depth = 60)"
   ]
  },
  {
   "cell_type": "markdown",
   "id": "25a898c0-bafb-423b-acbc-75ce7b5b24e3",
   "metadata": {},
   "source": [
    "# Display image slices"
   ]
  },
  {
   "cell_type": "code",
   "execution_count": null,
   "id": "dd2d8ed7-ec6d-4bcc-abff-86991c805ae7",
   "metadata": {},
   "outputs": [],
   "source": [
    "# loads single image\n",
    "device = 'cpu'\n",
    "\n",
    "# images to load\n",
    "image_data_list = [\n",
    "                    {'image': f'/dtu/3d-imaging-center/courses/02510/data/MSD/Task08_HepaticVessel/imagesTr/hepaticvessel_{i}.nii.gz', 'label': f'/dtu/3d-imaging-center/courses/02510/data/MSD/Task08_HepaticVessel/labelsTr/hepaticvessel_{i}.nii.gz'}\n",
    "                    for i in [\"119\", \"185\"]\n",
    "                  ]"
   ]
  },
  {
   "cell_type": "code",
   "execution_count": null,
   "id": "314a71c4-73fa-4fa7-a6c4-91cb7a9d60b2",
   "metadata": {
    "editable": true,
    "slideshow": {
     "slide_type": ""
    },
    "tags": []
   },
   "outputs": [],
   "source": [
    "# We now plot a single slice\n",
    "#visualize_slices(models_list,image_data_list, val_transforms,post_transforms,depth=60,device=device)  # mmm mærkelig fejl\n",
    "visualize_slice_all_models(models_list, image_data_list[1], val_transforms, post_transforms, device = 'cpu',depth=60)"
   ]
  },
  {
   "cell_type": "code",
   "execution_count": null,
   "id": "9b6cfc07-d20a-4c14-9972-a56bd7306db3",
   "metadata": {},
   "outputs": [],
   "source": []
  },
  {
   "cell_type": "code",
   "execution_count": null,
   "id": "98cfc20e-e182-42fb-9e0e-a3214c07d267",
   "metadata": {},
   "outputs": [],
   "source": []
  },
  {
   "cell_type": "code",
   "execution_count": null,
   "id": "bcf818f0-d2d5-4b55-bf07-399717f2e098",
   "metadata": {},
   "outputs": [],
   "source": []
  },
  {
   "cell_type": "code",
   "execution_count": null,
   "id": "50757f61-7a78-4d4c-9425-a8b464b2854e",
   "metadata": {
    "editable": true,
    "slideshow": {
     "slide_type": ""
    },
    "tags": []
   },
   "outputs": [],
   "source": [
    "# We now plot a single slice\n",
    "#visualize_slices(models_list,image_data_list, val_transforms,post_transforms,depth=60,device=device)  # mmm mærkelig fejl"
   ]
  },
  {
   "cell_type": "code",
   "execution_count": null,
   "id": "ec908e92-757c-42c3-af93-917f03313365",
   "metadata": {},
   "outputs": [],
   "source": []
  },
  {
   "cell_type": "code",
   "execution_count": null,
   "id": "1f15e4b6-dbf6-4ebd-87d5-8ec94696de5d",
   "metadata": {},
   "outputs": [],
   "source": [
    "!ls"
   ]
  },
  {
   "cell_type": "code",
   "execution_count": null,
   "id": "5b6aee9b-7538-4efa-b4ac-f47b6bcc148a",
   "metadata": {
    "editable": true,
    "slideshow": {
     "slide_type": ""
    },
    "tags": []
   },
   "outputs": [],
   "source": [
    "post_transforms = Compose(\n",
    "    [\n",
    "        Invertd(\n",
    "            keys=\"pred\",\n",
    "            transform=val_transforms,\n",
    "            orig_keys=\"image\",\n",
    "            meta_keys=\"pred_meta_dict\",\n",
    "            orig_meta_keys=\"image_meta_dict\",\n",
    "            meta_key_postfix=\"meta_dict\",\n",
    "            nearest_interp=False,\n",
    "            to_tensor=True,\n",
    "        ),\n",
    "        #AsDiscreted(keys=\"pred\", argmax=True, to_onehot=2),\n",
    "        Activationsd(keys=\"pred\", softmax=True), \n",
    "        AsDiscreted(keys=\"pred\", argmax=True),\n",
    "        #SaveImaged(keys=\"pred\", meta_keys=\"pred_meta_dict\", output_dir='reports/save_prediction_mask', output_postfix=\"seg\", resample=False),\n",
    "    ]\n",
    ")\n",
    "\n",
    "def visualize_slices(models_dict, scan_list, transform, post_transforms, device = 'cpu',depth=20):\n",
    "    # loads model into dict\n",
    "    models_dict = {key: load_unet(value,device=device)[0] for key, value in models_dict.items()}\n",
    "    \n",
    "    #roi_size = (140, 140, 140) # we take the full image\n",
    "    roi_size = (160, 160, 160)\n",
    "\n",
    "    sw_batch_size = 4\n",
    "    \n",
    "    # create plot    \n",
    "    plt.axis('off')\n",
    "    fig = plt.figure(constrained_layout=True, figsize = (10,10))\n",
    "    fig.suptitle('Figure title')\n",
    "    subfigs = fig.subfigures(nrows=len(scan_list), ncols=1)\n",
    "\n",
    "    # loops over each image\n",
    "    for i, scan in enumerate(tqdm(scan_list)):   \n",
    "        # sets title for row\n",
    "        subfigs[i].suptitle(f'hepaticvessel_{scan[\"image\"][-10:-7]}')\n",
    "        # crates plots for row\n",
    "        axs = subfigs[i].subplots(nrows=1, ncols=len(models_dict)+2)\n",
    "\n",
    "        scan_transformed = transform(scan)\n",
    "\n",
    "        # creates img and labl\n",
    "        axs[0].imshow(scan_transformed['image'][0,:,:,depth], cmap='gray')\n",
    "        axs[0].set_title('pre-processed \\nimage')\n",
    "        axs[1].imshow(scan_transformed['label'][0,:,:,depth], cmap='gray')\n",
    "        axs[1].set_title('pre-processed \\nlabel')\n",
    "\n",
    "        # loops over each model\n",
    "        for j, (name, model) in enumerate(tqdm(models_dict.items(),leave=False)):\n",
    "            model.eval()\n",
    "            with torch.no_grad():\n",
    "                scan_transformed[\"pred\"] = sliding_window_inference(scan_transformed[\"image\"].unsqueeze(0), roi_size, sw_batch_size, model, sw_device=device)\n",
    "            \n",
    "                #scan_transformed = [post_transforms(i) for i in decollate_batch(scan_transformed)]\n",
    "            \n",
    "            axs[j+2].imshow(torch.argmax(scan_transformed['pred'], dim=1)[0, :, :, depth])\n",
    "            axs[j+2].set_title(name)\n",
    "\n",
    "\n",
    "def visualize_slice_all_models(models_list, scan, transform, post_transforms, device = 'cpu',depth=20):\n",
    "    # loads model into dict\n",
    "    #models_d = {key: load_unet(value,device=device)[0] for key, value in models_dict.items() }\n",
    "    roi_size = (160, 160, 160)\n",
    "\n",
    "    sw_batch_size = 4\n",
    "    \n",
    "    # create plot    \n",
    "    plt.axis('off')\n",
    "    #fig = plt.figure(constrained_layout=True)\n",
    "    fig = plt.figure()\n",
    "    fig.suptitle('Figure title')\n",
    "    subfigs = fig.subfigures(nrows=2, ncols=1,wspace=0.07,hspace=-.5)\n",
    "    \n",
    "    # For each label proportion\n",
    "    for i, lp in enumerate([0.01, 1.0]):\n",
    "        models_dict = {key: load_unet(value,device=device)[0] for key, value in models_list[i].items() }\n",
    "\n",
    "        #crates plots for row\n",
    "        axs = subfigs[i].subplots(nrows=1, ncols=len(models_dict)+2)\n",
    "    \n",
    "        scan_transformed = transform(scan)\n",
    "    \n",
    "        # creates img and labl\n",
    "        axs[0].imshow(scan_transformed['image'][0,:,:,depth], cmap='gray')\n",
    "        axs[0].set_title('Image')\n",
    "        axs[0].axis('off')\n",
    "        axs[1].imshow(scan_transformed['label'][0,:,:,depth], cmap='gray')\n",
    "        axs[1].set_title('Label')\n",
    "        axs[1].axis('off')\n",
    "    \n",
    "        # loops over each model in the label proportion\n",
    "        for j, (name, model) in enumerate(models_dict.items()):\n",
    "            \n",
    "            model.eval()\n",
    "            with torch.no_grad():\n",
    "                scan_transformed[\"pred\"] = sliding_window_inference(scan_transformed[\"image\"].unsqueeze(0), roi_size, sw_batch_size, model, sw_device=device)\n",
    "            \n",
    "                #scan_transformed = [post_transforms(i) for i in decollate_batch(scan_transformed)]\n",
    "            \n",
    "            axs[j+2].imshow(torch.argmax(scan_transformed['pred'], dim=1)[0, :, :, depth])\n",
    "            axs[j+2].axis('off')\n",
    "            axs[j+2].set_title(name)\n",
    "\n",
    "        # Adjust the margins between the subplots so there are less air and more image\n",
    "        plt.subplots_adjust(wspace=0.1, hspace=0.1)\n",
    "\n",
    "\n",
    "\n",
    "\n",
    "\n",
    "    # For each label proportion\n",
    "    for i, lp in enumerate([0.01, 0.02, 0.03, 0.05, 0.07, 0.10, 1.0]):\n",
    "        models_dict = {key: load_unet(value,device=device)[0] for key, value in models_list[i].items() }\n",
    "        scan_transformed = transform(scan)\n",
    "    \n",
    "        # Plot image and label\n",
    "        axs[i, 0].imshow(scan_transformed['image'][0,:,:,depth], cmap='gray')\n",
    "        axs[i, 1].imshow(scan_transformed['label'][0,:,:,depth], cmap='gray')\n",
    "        \n",
    "        # Plot threshold prediction \n",
    "        threshold_lower = 0.4\n",
    "        threshold_upper = 0.49\n",
    "        threshold_img = torch.logical_and(scan_transformed['image'][0,:,:,depth] >= lower_threshold, scan_transformed['image'][0,:,:,depth]<= upper_threshold)[0,:,:,:]     \n",
    "        axs[i, 2].imshow(threshold_img.byte(), cmap='gray')\n",
    "        \n",
    "        # loops over each model in the label proportion\n",
    "        for j, (name, model) in enumerate(models_dict.items()):\n",
    "            \n",
    "            model.eval()\n",
    "            with torch.no_grad():\n",
    "                scan_transformed[\"pred\"] = sliding_window_inference(scan_transformed[\"image\"].unsqueeze(0), roi_size, sw_batch_size, model, sw_device=device)   \n",
    "            axs[i, j+3].imshow(torch.argmax(scan_transformed['pred'], dim=1)[0, :, :, depth])"
   ]
  },
  {
   "cell_type": "code",
   "execution_count": null,
   "id": "78f93a9a-59bc-4e8d-acd2-0e8b63ef5216",
   "metadata": {},
   "outputs": [],
   "source": [
    "import pandas\n"
   ]
  },
  {
   "cell_type": "code",
   "execution_count": null,
   "id": "7e06ee4a-9cd4-436c-8166-818003b5fd28",
   "metadata": {},
   "outputs": [],
   "source": [
    "pandas.read_pickle('notebooks/wandb_data.pkl')"
   ]
  },
  {
   "cell_type": "code",
   "execution_count": null,
   "id": "cdae274e-1bee-4a32-b13a-fbeadfd902c3",
   "metadata": {},
   "outputs": [],
   "source": []
  },
  {
   "cell_type": "code",
   "execution_count": 7,
   "id": "371ce08c",
   "metadata": {},
   "outputs": [
    {
     "name": "stdout",
     "output_type": "stream",
     "text": [
      "IRCAD_Load.ipynb\t     save_interactive_volume_slicer.py\n",
      "Untitled.ipynb\t\t     slice_results.ipynb\n",
      "__pycache__\t\t     spleen_segmentation_3d.ipynb\n",
      "hepaticDataExploration.csv   test_performance_analysis.ipynb\n",
      "hepatic_visualization.ipynb  volvizplotly.py\n",
      "patches_retinal.ipynb\t     wandb_data.pkl\n",
      "plotly_visualization.ipynb   wandb_data_old.pkl\n",
      "rat3.ipynb\n"
     ]
    }
   ],
   "source": [
    "!ls"
   ]
  },
  {
   "cell_type": "markdown",
   "id": "991791f1",
   "metadata": {
    "editable": true,
    "slideshow": {
     "slide_type": ""
    },
    "tags": []
   },
   "source": [
    "#Imports and setup"
   ]
  },
  {
   "cell_type": "code",
   "execution_count": 4,
   "id": "e4792ec2",
   "metadata": {},
   "outputs": [
    {
     "ename": "SyntaxError",
     "evalue": "invalid syntax (2906151893.py, line 1)",
     "output_type": "error",
     "traceback": [
      "\u001b[0;36m  Cell \u001b[0;32mIn[4], line 1\u001b[0;36m\u001b[0m\n\u001b[0;31m    cd ..\u001b[0m\n\u001b[0m        ^\u001b[0m\n\u001b[0;31mSyntaxError\u001b[0m\u001b[0;31m:\u001b[0m invalid syntax\n"
     ]
    }
   ],
   "source": [
    "cd ..\n",
    "# goes back to home folder"
   ]
  },
  {
   "cell_type": "code",
   "execution_count": 25,
   "id": "5c64a3f3",
   "metadata": {
    "editable": true,
    "slideshow": {
     "slide_type": ""
    },
    "tags": []
   },
   "outputs": [],
   "source": [
    "import pandas as pd\n",
    "import numpy as np\n",
    "import matplotlib.pyplot as plt\n",
    "import torch\n",
    "from tqdm.notebook import tqdm\n",
    "from monai.transforms import (\n",
    "    AsDiscreted,\n",
    "    Activationsd,\n",
    "    Compose,\n",
    "    Invertd,\n",
    ")\n",
    "from monai.inferers import sliding_window_inference\n",
    "from monai.data import decollate_batch\n",
    "\n",
    "from src.data.hepatic_dataset import val_transforms\n",
    "from src.models.unet_model import load_unet"
   ]
  },
  {
   "cell_type": "code",
   "execution_count": 26,
   "id": "2d3364fe",
   "metadata": {},
   "outputs": [],
   "source": [
    "# What models do we need to make inference from?\n",
    "models_dict = {\n",
    "    \"final_3drpl_inc_enc_lp_1.0\" : \"models/finetune-kfold/model_16753090.pth\",\n",
    "    \"final_3drpl_inc_enc_lp_0.01\" : \"models/finetune-kfold/model_16753060.pth\",\n",
    "    \"final_transfer_inc_enc_lp_1.0\": \"models/finetune-kfold/model_16761135.pth\"\n",
    "}\n",
    "\n",
    "# Only increasing learning rates\n",
    "models_list = [{\n",
    "                    \"3drpl_lp_0.01\" : \"../models/finetune-kfold/model_16753060.pth\",\n",
    "                    \"transfer_lp_0.01\": \"../models/finetune-kfold/model_16761102.pth\",\n",
    "                    \"random_lp_0.01\" : \"../models/finetune-kfold/model_16752008.pth\",\n",
    "                },\n",
    "                    {\n",
    "                    \"3drpl_lp_0.02\" : \"../models/finetune-kfold/model_16753065.pth\",\n",
    "                    \"transfer_lp_0.02\": \"../models/finetune-kfold/model_16761108.pth\",\n",
    "                    \"random_lp_0.02\" : \"../models/finetune-kfold/model_16752014.pth\",\n",
    "                    },\n",
    "               {\n",
    "                   \"3drpl_lp_0.03\" : \"../models/finetune-kfold/model_16753070.pth\",\n",
    "                    \"transfer_lp_0.03\": \"../models/finetune-kfold/model_16761114.pth\",\n",
    "                    \"random_lp_0.03\" : \"../models/finetune-kfold/model_16752019.pth\",\n",
    "               },\n",
    "                {\n",
    "                    \"3drpl_lp_0.05\" : \"../models/finetune-kfold/model_16753075.pth\",\n",
    "                    \"transfer_lp_0.05\": \"../models/finetune-kfold/model_16761119.pth\",\n",
    "                    \"random_lp_0.05\" : \"../models/finetune-kfold/model_16752026.pth\",\n",
    "                    },\n",
    "               \n",
    "               {\n",
    "                    \"3drpl_lp_0.07\" : \"../models/finetune-kfold/model_16753078.pth\",\n",
    "                    \"transfer_lp_0.07\": \"../models/finetune-kfold/model_16772244.pth\",\n",
    "                    \"random_lp_0.07\" : \"../models/finetune-kfold/model_16752027.pth\",\n",
    "                    },\n",
    "                    \n",
    "                {\n",
    "                    \"3drpl_lp_0.10\" : \"../models/finetune-kfold/model_16753081.pth\",\n",
    "                    \"transfer_lp_0.10\": \"../models/finetune-kfold/model_16761129.pth\",\n",
    "                    \"random_lp_0.10\" : \"../models/finetune-kfold/model_16752034.pth\",\n",
    "                    },\n",
    "               \n",
    "               {\n",
    "                \"3drpl_lp_1.0\" : \"../models/finetune-kfold/model_16753090.pth\",\n",
    "                \"transfer_lp_1.0\": \"../models/finetune-kfold/model_16761135.pth\",\n",
    "                \"random_lp_1.0\" : \"../models/finetune-kfold/model_16752039.pth\",   \n",
    "               },\n",
    "              ]"
   ]
  },
  {
   "cell_type": "code",
   "execution_count": 9,
   "id": "0cd014e0",
   "metadata": {},
   "outputs": [
    {
     "name": "stdout",
     "output_type": "stream",
     "text": [
      "IRCAD_Load.ipynb             save_interactive_volume_slicer.py\n",
      "Untitled.ipynb               slice_results.ipynb\n",
      "\u001b[0m\u001b[38;5;27m__pycache__\u001b[0m/                 spleen_segmentation_3d.ipynb\n",
      "hepaticDataExploration.csv   test_performance_analysis.ipynb\n",
      "hepatic_visualization.ipynb  volvizplotly.py\n",
      "patches_retinal.ipynb        wandb_data.pkl\n",
      "plotly_visualization.ipynb   wandb_data_old.pkl\n",
      "rat3.ipynb\n"
     ]
    }
   ],
   "source": [
    "ls"
   ]
  },
  {
   "cell_type": "markdown",
   "id": "1b18703e",
   "metadata": {},
   "source": [
    "# Functions"
   ]
  },
  {
   "cell_type": "code",
   "execution_count": 67,
   "id": "b09f8085",
   "metadata": {},
   "outputs": [],
   "source": [
    "# loads single image\n",
    "device = 'cpu'\n",
    "\n",
    "# images to load\n",
    "image_data_list = [\n",
    "                    {'image': f'/dtu/3d-imaging-center/courses/02510/data/MSD/Task08_HepaticVessel/imagesTr/hepaticvessel_{i}.nii.gz', \n",
    "                     'label': f'/dtu/3d-imaging-center/courses/02510/data/MSD/Task08_HepaticVessel/labelsTr/hepaticvessel_{i}.nii.gz'}\n",
    "                    for i in [193]\n",
    "                  ]"
   ]
  },
  {
   "cell_type": "code",
   "execution_count": 81,
   "id": "54e13dba",
   "metadata": {},
   "outputs": [],
   "source": [
    "roi_size = (160, 160, 160)\n",
    "sw_batch_size = 4\n",
    "\n",
    "scan = image_data_list[0]\n",
    "scan_transformed = val_transforms(scan)\n",
    "\n",
    "# compute inferences, right now stores only single slices\n",
    "predictions = []\n",
    "\n",
    "for lp_model_dict in models_list:\n",
    "    \n",
    "    models = [load_unet(value,device=device)[0] for value in lp_model_dict.values()]\n",
    "\n",
    "    # loops over each model in the label proportion\n",
    "    lp_predictions = [] # Will store predictions from models in order: 3d-rpl, transfer, random\n",
    "    for model in models:\n",
    "        model.eval()\n",
    "        with torch.no_grad():\n",
    "            prediction = sliding_window_inference(scan_transformed[\"image\"].unsqueeze(0), roi_size, sw_batch_size, model, sw_device=device)\n",
    "            lp_predictions.append(torch.argmax(prediction, dim=1)[0, :, :, 42])\n",
    "\n",
    "    predictions.append(lp_predictions)"
   ]
  },
  {
   "cell_type": "code",
   "execution_count": 96,
   "id": "6f16a183",
   "metadata": {},
   "outputs": [],
   "source": [
    "def plot_2D(predictions, scan, transform, device = 'cpu',depth=50):\n",
    "\n",
    "    # Set titles for each column\n",
    "    col_titles = ['Image', 'Label','Threshold','3D-RPL', 'Transfer', 'Random']\n",
    "    row_titles = ['1% LP','2% LP', '3% LP', '5% LP', '7% LP', '10% LP', '100% LP']\n",
    "    roi_size = (160, 160, 160)\n",
    "    sw_batch_size = 4\n",
    "    \n",
    "    # create plot    \n",
    "    #plt.axis('off')\n",
    "    \n",
    "    # create plot    \n",
    "    plt.figure(figsize=(36, 30))  # Set the figure size to be larger\n",
    "    fig, axs = plt.subplots(nrows=7, ncols=6, gridspec_kw={'hspace': 0.15, 'wspace': -0.75})\n",
    "    #plt.tight_layout()\n",
    "\n",
    "    scan_transformed = transform(scan)\n",
    "\n",
    "    row = 0\n",
    "    # Plot each prediction\n",
    "    \n",
    "    for lp_predictions in predictions:\n",
    "        col = 0\n",
    "\n",
    "        # Plot image\n",
    "        axs[row, 0].imshow(np.rot90(scan_transformed['image'][0,:,:,depth]), cmap='gray')\n",
    "    \n",
    "        # Plot label\n",
    "        axs[row, 1].imshow(np.rot90(scan_transformed['label'][0,:,:,depth]), cmap='gray')\n",
    "\n",
    "        # Plot threshold\n",
    "        lower_threshold = 0.4\n",
    "        upper_threshold = 0.49\n",
    "        threshold_img = torch.logical_and(scan_transformed['image'][0,:,:,depth] >= lower_threshold, scan_transformed['image'][0,:,:,depth]<= upper_threshold)     \n",
    "        axs[row, col + 2].imshow(np.rot90(threshold_img.byte()), cmap='gray')\n",
    "\n",
    "        # For each model prediction\n",
    "        for i, model_prediction in enumerate(lp_predictions):\n",
    "            axs[row, col+3+i].imshow(np.rot90(model_prediction), cmap = 'gray')\n",
    "        \n",
    "        axs[row, 0].set_ylabel(row_titles[row], rotation=0, labelpad=30, fontsize = 8)\n",
    "        row += 1\n",
    "\n",
    "    for i, ax in enumerate(axs[0]):\n",
    "        ax.set_title(f'{col_titles[i]}', loc='center', pad=10, fontsize=8)\n",
    "\n",
    "    # Remove axis ticks and labels\n",
    "    for ax in axs.flatten():\n",
    "        ax.set_xticks([])\n",
    "        ax.set_yticks([])\n",
    "        ax.set_xticklabels([])\n",
    "        ax.set_yticklabels([])\n",
    " \n",
    "    plt.savefig('Slices.png', dpi = 500, bbox_inches='tight')\n",
    "    "
   ]
  },
  {
   "cell_type": "code",
   "execution_count": 97,
   "id": "7778b924",
   "metadata": {},
   "outputs": [
    {
     "data": {
      "text/plain": [
       "<Figure size 3600x3000 with 0 Axes>"
      ]
     },
     "metadata": {},
     "output_type": "display_data"
    },
    {
     "data": {
      "image/png": "[encoded data removed]",
      "text/plain": [
       "<Figure size 640x480 with 42 Axes>"
      ]
     },
     "metadata": {},
     "output_type": "display_data"
    }
   ],
   "source": [
    "plot_2D(predictions, scan, transform=val_transforms, depth = 42)"
   ]
  },
  {
   "cell_type": "markdown",
   "id": "0b53a19e",
   "metadata": {},
   "source": [
    "# Display image slices"
   ]
  },
  {
   "cell_type": "code",
   "execution_count": null,
   "id": "540b6fe0",
   "metadata": {},
   "outputs": [],
   "source": [
    "# loads single image\n",
    "device = 'cpu'\n",
    "\n",
    "# images to load\n",
    "image_data_list = [\n",
    "                    {'image': f'/dtu/3d-imaging-center/courses/02510/data/MSD/Task08_HepaticVessel/imagesTr/hepaticvessel_{i}.nii.gz', 'label': f'/dtu/3d-imaging-center/courses/02510/data/MSD/Task08_HepaticVessel/labelsTr/hepaticvessel_{i}.nii.gz'}\n",
    "                    for i in [\"119\", \"185\"]\n",
    "                  ]"
   ]
  },
  {
   "cell_type": "code",
   "execution_count": null,
   "id": "258d7daf",
   "metadata": {
    "editable": true,
    "slideshow": {
     "slide_type": ""
    },
    "tags": []
   },
   "outputs": [],
   "source": [
    "# We now plot a single slice\n",
    "#visualize_slices(models_list,image_data_list, val_transforms,post_transforms,depth=60,device=device)  # mmm mærkelig fejl\n",
    "visualize_slice_all_models(models_list, image_data_list[1], val_transforms, post_transforms, device = 'cpu',depth=60)"
   ]
  },
  {
   "cell_type": "code",
   "execution_count": null,
   "id": "55c6d114",
   "metadata": {},
   "outputs": [],
   "source": []
  },
  {
   "cell_type": "code",
   "execution_count": null,
   "id": "4739b061",
   "metadata": {},
   "outputs": [],
   "source": []
  },
  {
   "cell_type": "code",
   "execution_count": null,
   "id": "71e907c5",
   "metadata": {},
   "outputs": [],
   "source": []
  },
  {
   "cell_type": "code",
   "execution_count": null,
   "id": "bbfce478",
   "metadata": {
    "editable": true,
    "slideshow": {
     "slide_type": ""
    },
    "tags": []
   },
   "outputs": [],
   "source": [
    "# We now plot a single slice\n",
    "#visualize_slices(models_list,image_data_list, val_transforms,post_transforms,depth=60,device=device)  # mmm mærkelig fejl"
   ]
  },
  {
   "cell_type": "code",
   "execution_count": null,
   "id": "ffefac3c",
   "metadata": {},
   "outputs": [],
   "source": []
  },
  {
   "cell_type": "code",
   "execution_count": null,
   "id": "983bcb17",
   "metadata": {},
   "outputs": [],
   "source": [
    "!ls"
   ]
  },
  {
   "cell_type": "code",
   "execution_count": null,
   "id": "7116c91c",
   "metadata": {
    "editable": true,
    "slideshow": {
     "slide_type": ""
    },
    "tags": []
   },
   "outputs": [],
   "source": [
    "post_transforms = Compose(\n",
    "    [\n",
    "        Invertd(\n",
    "            keys=\"pred\",\n",
    "            transform=val_transforms,\n",
    "            orig_keys=\"image\",\n",
    "            meta_keys=\"pred_meta_dict\",\n",
    "            orig_meta_keys=\"image_meta_dict\",\n",
    "            meta_key_postfix=\"meta_dict\",\n",
    "            nearest_interp=False,\n",
    "            to_tensor=True,\n",
    "        ),\n",
    "        #AsDiscreted(keys=\"pred\", argmax=True, to_onehot=2),\n",
    "        Activationsd(keys=\"pred\", softmax=True), \n",
    "        AsDiscreted(keys=\"pred\", argmax=True),\n",
    "        #SaveImaged(keys=\"pred\", meta_keys=\"pred_meta_dict\", output_dir='reports/save_prediction_mask', output_postfix=\"seg\", resample=False),\n",
    "    ]\n",
    ")\n",
    "\n",
    "def visualize_slices(models_dict, scan_list, transform, post_transforms, device = 'cpu',depth=20):\n",
    "    # loads model into dict\n",
    "    models_dict = {key: load_unet(value,device=device)[0] for key, value in models_dict.items()}\n",
    "    \n",
    "    #roi_size = (140, 140, 140) # we take the full image\n",
    "    roi_size = (160, 160, 160)\n",
    "\n",
    "    sw_batch_size = 4\n",
    "    \n",
    "    # create plot    \n",
    "    plt.axis('off')\n",
    "    fig = plt.figure(constrained_layout=True, figsize = (10,10))\n",
    "    fig.suptitle('Figure title')\n",
    "    subfigs = fig.subfigures(nrows=len(scan_list), ncols=1)\n",
    "\n",
    "    # loops over each image\n",
    "    for i, scan in enumerate(tqdm(scan_list)):   \n",
    "        # sets title for row\n",
    "        subfigs[i].suptitle(f'hepaticvessel_{scan[\"image\"][-10:-7]}')\n",
    "        # crates plots for row\n",
    "        axs = subfigs[i].subplots(nrows=1, ncols=len(models_dict)+2)\n",
    "\n",
    "        scan_transformed = transform(scan)\n",
    "\n",
    "        # creates img and labl\n",
    "        axs[0].imshow(scan_transformed['image'][0,:,:,depth], cmap='gray')\n",
    "        axs[0].set_title('pre-processed \\nimage')\n",
    "        axs[1].imshow(scan_transformed['label'][0,:,:,depth], cmap='gray')\n",
    "        axs[1].set_title('pre-processed \\nlabel')\n",
    "\n",
    "        # loops over each model\n",
    "        for j, (name, model) in enumerate(tqdm(models_dict.items(),leave=False)):\n",
    "            model.eval()\n",
    "            with torch.no_grad():\n",
    "                scan_transformed[\"pred\"] = sliding_window_inference(scan_transformed[\"image\"].unsqueeze(0), roi_size, sw_batch_size, model, sw_device=device)\n",
    "            \n",
    "                #scan_transformed = [post_transforms(i) for i in decollate_batch(scan_transformed)]\n",
    "            \n",
    "            axs[j+2].imshow(torch.argmax(scan_transformed['pred'], dim=1)[0, :, :, depth])\n",
    "            axs[j+2].set_title(name)\n",
    "\n",
    "\n",
    "def visualize_slice_all_models(models_list, scan, transform, post_transforms, device = 'cpu',depth=20):\n",
    "    # loads model into dict\n",
    "    #models_d = {key: load_unet(value,device=device)[0] for key, value in models_dict.items() }\n",
    "    roi_size = (160, 160, 160)\n",
    "\n",
    "    sw_batch_size = 4\n",
    "    \n",
    "    # create plot    \n",
    "    plt.axis('off')\n",
    "    #fig = plt.figure(constrained_layout=True)\n",
    "    fig = plt.figure()\n",
    "    fig.suptitle('Figure title')\n",
    "    subfigs = fig.subfigures(nrows=2, ncols=1,wspace=0.07,hspace=-.5)\n",
    "    \n",
    "    # For each label proportion\n",
    "    for i, lp in enumerate([0.01, 1.0]):\n",
    "        models_dict = {key: load_unet(value,device=device)[0] for key, value in models_list[i].items() }\n",
    "\n",
    "        #crates plots for row\n",
    "        axs = subfigs[i].subplots(nrows=1, ncols=len(models_dict)+2)\n",
    "    \n",
    "        scan_transformed = transform(scan)\n",
    "    \n",
    "        # creates img and labl\n",
    "        axs[0].imshow(scan_transformed['image'][0,:,:,depth], cmap='gray')\n",
    "        axs[0].set_title('Image')\n",
    "        axs[0].axis('off')\n",
    "        axs[1].imshow(scan_transformed['label'][0,:,:,depth], cmap='gray')\n",
    "        axs[1].set_title('Label')\n",
    "        axs[1].axis('off')\n",
    "    \n",
    "        # loops over each model in the label proportion\n",
    "        for j, (name, model) in enumerate(models_dict.items()):\n",
    "            \n",
    "            model.eval()\n",
    "            with torch.no_grad():\n",
    "                scan_transformed[\"pred\"] = sliding_window_inference(scan_transformed[\"image\"].unsqueeze(0), roi_size, sw_batch_size, model, sw_device=device)\n",
    "            \n",
    "                #scan_transformed = [post_transforms(i) for i in decollate_batch(scan_transformed)]\n",
    "            \n",
    "            axs[j+2].imshow(torch.argmax(scan_transformed['pred'], dim=1)[0, :, :, depth])\n",
    "            axs[j+2].axis('off')\n",
    "            axs[j+2].set_title(name)\n",
    "\n",
    "        # Adjust the margins between the subplots so there are less air and more image\n",
    "        plt.subplots_adjust(wspace=0.1, hspace=0.1)\n",
    "\n",
    "\n",
    "\n",
    "\n",
    "\n",
    "    # For each label proportion\n",
    "    for i, lp in enumerate([0.01, 0.02, 0.03, 0.05, 0.07, 0.10, 1.0]):\n",
    "        models_dict = {key: load_unet(value,device=device)[0] for key, value in models_list[i].items() }\n",
    "        scan_transformed = transform(scan)\n",
    "    \n",
    "        # Plot image and label\n",
    "        axs[i, 0].imshow(scan_transformed['image'][0,:,:,depth], cmap='gray')\n",
    "        axs[i, 1].imshow(scan_transformed['label'][0,:,:,depth], cmap='gray')\n",
    "        \n",
    "        # Plot threshold prediction \n",
    "        threshold_lower = 0.4\n",
    "        threshold_upper = 0.49\n",
    "        threshold_img = torch.logical_and(scan_transformed['image'][0,:,:,depth] >= lower_threshold, scan_transformed['image'][0,:,:,depth]<= upper_threshold)[0,:,:,:]     \n",
    "        axs[i, 2].imshow(threshold_img.byte(), cmap='gray')\n",
    "        \n",
    "        # loops over each model in the label proportion\n",
    "        for j, (name, model) in enumerate(models_dict.items()):\n",
    "            \n",
    "            model.eval()\n",
    "            with torch.no_grad():\n",
    "                scan_transformed[\"pred\"] = sliding_window_inference(scan_transformed[\"image\"].unsqueeze(0), roi_size, sw_batch_size, model, sw_device=device)   \n",
    "            axs[i, j+3].imshow(torch.argmax(scan_transformed['pred'], dim=1)[0, :, :, depth])"
   ]
  },
  {
   "cell_type": "code",
   "execution_count": null,
   "id": "bdaf73c2",
   "metadata": {},
   "outputs": [],
   "source": [
    "import pandas\n"
   ]
  },
  {
   "cell_type": "code",
   "execution_count": null,
   "id": "eb30e4d0",
   "metadata": {},
   "outputs": [],
   "source": [
    "pandas.read_pickle('notebooks/wandb_data.pkl')"
   ]
  },
  {
   "cell_type": "code",
   "execution_count": null,
   "id": "2b057e24",
   "metadata": {},
   "outputs": [],
   "source": []
  }
 ],
 "metadata": {
  "kernelspec": {
   "display_name": "Python 3 (ipykernel)",
   "language": "python",
   "name": "python3"
  },
  "language_info": {
   "codemirror_mode": {
    "name": "ipython",
    "version": 3
   },
   "file_extension": ".py",
   "mimetype": "text/x-python",
   "name": "python",
   "nbconvert_exporter": "python",
   "pygments_lexer": "ipython3",
   "version": "3.9.11"
  }
 },
 "nbformat": 4,
 "nbformat_minor": 5
}
