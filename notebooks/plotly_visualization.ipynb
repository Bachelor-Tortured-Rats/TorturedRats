{
 "cells": [
  {
   "cell_type": "markdown",
   "id": "dbbe2e49",
   "metadata": {},
   "source": [
    "# Visualization of hepaticvessel_004"
   ]
  },
  {
   "cell_type": "code",
   "execution_count": null,
   "id": "4b499ba0",
   "metadata": {},
   "outputs": [],
   "source": [
    "###\n",
    "### Original script from: Vedrana Andersen Dahl\n",
    "###\n",
    "\n",
    "# Load packages.\n",
    "import numpy as np\n",
    "import plotly.graph_objects as go\n",
    "import numpy as np\n",
    "import skimage.measure\n",
    "import nibabel as nib\n",
    "import volvizplotly as vvp\n",
    "from skimage.transform import rescale"
   ]
  },
  {
   "cell_type": "code",
   "execution_count": null,
   "id": "165e98ab",
   "metadata": {},
   "outputs": [],
   "source": [
    "\n",
    "img = nib.load('/zhome/a2/4/155672/Desktop/Bachelor/Task08_HepaticVessel/imagesTr/hepaticvessel_004.nii.gz')\n",
    "lab_true = nib.load('/zhome/a2/4/155672/Desktop/Bachelor/Task08_HepaticVessel/labelsTr/hepaticvessel_004.nii.gz')\n",
    "lab_pred = nib.load('../reports/save_prediction_mask/hepaticvessel_004/hepaticvessel_004_seg.nii.gz')\n"
   ]
  },
  {
   "cell_type": "code",
   "execution_count": null,
   "id": "b30ae1ab",
   "metadata": {},
   "outputs": [],
   "source": [
    "downscale_coeff = 1\n",
    "anti_aliasing= False\n",
    "crop_to_pred = False\n",
    "\n",
    "vol = np.array(img.get_fdata()).transpose((2, 1, 0))\n",
    "vol = rescale(vol, downscale_coeff, anti_aliasing=anti_aliasing)\n",
    "\n",
    "seg_true = np.array(lab_true.get_fdata()).transpose((2, 1, 0))\n",
    "seg_true = rescale(seg_true, downscale_coeff, anti_aliasing=anti_aliasing)\n",
    "\n",
    "#seg_pred = vol > 100\n",
    "seg_pred = np.array(lab_pred.get_fdata()).transpose((2, 1, 0))\n",
    "seg_pred = rescale(seg_pred, downscale_coeff, anti_aliasing=anti_aliasing)\n",
    "\n",
    "if crop_to_pred:\n",
    "    # Cropping to xy-bounding box of labels\n",
    "    bb = seg_pred.any(axis=0)\n",
    "    x = np.where(bb.any(axis=0))[0]\n",
    "    y = np.where(bb.any(axis=1))[0]\n",
    "    vol = vol[:, y[0]: y[-1], x[0]: x[-1]]\n",
    "    seg_pred = seg_pred[:, y[0]: y[-1], x[0]: x[-1]]\n",
    "    seg_true = seg_true[:, y[0]: y[-1], x[0]: x[-1]]"
   ]
  },
  {
   "cell_type": "markdown",
   "id": "123fe2d9",
   "metadata": {},
   "source": [
    "### plotting label and pred"
   ]
  },
  {
   "cell_type": "code",
   "execution_count": null,
   "id": "1e7891dd",
   "metadata": {},
   "outputs": [],
   "source": [
    "axisscale=(1,1,5)\n",
    "\n",
    "# Use marching cubes to obtain the surface mesh \n",
    "verts1, faces1, _, _ = skimage.measure.marching_cubes(seg_true==1, 0.5)\n",
    "verts2, faces2, _, _ = skimage.measure.marching_cubes(seg_pred==1, 0.5)\n",
    "verts3, faces3, _, _ = skimage.measure.marching_cubes((seg_true!=0) & (seg_pred==1), 0.5)\n",
    "\n",
    "fig_slice = vvp.volume_slicer(vol, ['mid', None, None], show=False,axisscaling=axisscale,title='middle ct-slice')\n",
    "fig_slice_label = vvp.show_mesh(verts1, faces1, fig=fig_slice, show=False, surface_color='red', wireframe_opacity=.5,surface_opacity=.5)\n",
    "fig_slice_label_pred = vvp.show_mesh(verts2, faces2, fig=fig_slice_label, show=False,surface_color='green', wireframe_opacity=.5,surface_opacity=.5)\n",
    "fig_slice_label_pred_overlap = vvp.show_mesh(verts3, faces3, fig=fig_slice_label_pred, show=False,surface_color='blue', wireframe_opacity=1,surface_opacity=1)\n",
    "\n",
    "fig_slice_label_pred_overlap.show()"
   ]
  },
  {
   "cell_type": "markdown",
   "id": "ee1bf2d0",
   "metadata": {},
   "source": [
    "### Plotting label"
   ]
  },
  {
   "cell_type": "code",
   "execution_count": null,
   "id": "941105ec",
   "metadata": {},
   "outputs": [],
   "source": [
    "fig = vvp.volume_slicer(vol, ['mid', None, None], show=False, axisscaling=axisscale,title='middle ct-slice')\n",
    "vvp.show_mesh(verts1, faces1, fig=fig, show=False, surface_color='red', wireframe_opacity=1,surface_opacity=1)"
   ]
  },
  {
   "cell_type": "markdown",
   "id": "29089b20",
   "metadata": {},
   "source": [
    "### Plotting pred"
   ]
  },
  {
   "cell_type": "code",
   "execution_count": null,
   "id": "eeeb0a91",
   "metadata": {
    "scrolled": false
   },
   "outputs": [],
   "source": [
    "fig = vvp.volume_slicer(vol, ['mid', None, None], show=False, axisscaling=axisscale, title='middle ct-slice')\n",
    "vvp.show_mesh(verts2, faces2, fig=fig, show=True,surface_color='green')"
   ]
  },
  {
   "cell_type": "markdown",
   "id": "50eaefc7",
   "metadata": {},
   "source": [
    "# Visualization of Rat 37"
   ]
  },
  {
   "cell_type": "code",
   "execution_count": null,
   "id": "7d5377c2",
   "metadata": {},
   "outputs": [],
   "source": [
    "img = nib.load('/dtu/3d-imaging-center/projects/2020_QIM_22_rat_kidney/analysis/analysis_rat37/rat37_reorient.nii.gz')\n",
    "lab_true = nib.load('/dtu/3d-imaging-center/projects/2020_QIM_22_rat_kidney/analysis/analysis_rat37/vessel_zoom_ground_truth-ish_rat37.nii.gz')\n",
    "lab_pred = nib.load('../reports/save_prediction_mask/rat37_reorient/rat37_reorient_seg.nii.gz')"
   ]
  },
  {
   "cell_type": "code",
   "execution_count": null,
   "id": "c5876c4f",
   "metadata": {},
   "outputs": [],
   "source": [
    "downscale_coeff = .25\n",
    "anti_aliasing= False\n",
    "crop_to_pred = False\n",
    "\n",
    "vol = np.array(img.get_fdata()).transpose((2, 1, 0))\n",
    "vol = rescale(vol, downscale_coeff, anti_aliasing=anti_aliasing)\n",
    "\n",
    "seg_true = np.array(lab_true.get_fdata()).transpose((2, 1, 0))\n",
    "seg_true = rescale(seg_true, downscale_coeff, anti_aliasing=anti_aliasing)\n",
    "\n",
    "#seg_pred = vol > 100\n",
    "seg_pred = np.array(lab_pred.get_fdata()).transpose((2, 1, 0))\n",
    "seg_pred = rescale(seg_pred, downscale_coeff, anti_aliasing=anti_aliasing)\n",
    "\n",
    "if crop_to_pred:\n",
    "    # Cropping to xy-bounding box of labels\n",
    "    bb = seg_pred.any(axis=0)\n",
    "    x = np.where(bb.any(axis=0))[0]\n",
    "    y = np.where(bb.any(axis=1))[0]\n",
    "    vol = vol[:, y[0]: y[-1], x[0]: x[-1]]\n",
    "    seg_pred = seg_pred[:, y[0]: y[-1], x[0]: x[-1]]\n",
    "    seg_true = seg_true[:, y[0]: y[-1], x[0]: x[-1]]"
   ]
  },
  {
   "cell_type": "markdown",
   "id": "ecf11521",
   "metadata": {},
   "source": [
    "### Plotting pred and label"
   ]
  },
  {
   "cell_type": "code",
   "execution_count": null,
   "id": "4a0f0d82",
   "metadata": {},
   "outputs": [],
   "source": [
    "# Use marching cubes to obtain the surface mesh \n",
    "verts1, faces1, _, _ = skimage.measure.marching_cubes(seg_true!=0, 0.5)\n",
    "verts2, faces2, _, _ = skimage.measure.marching_cubes(seg_pred==1, 0.5)\n",
    "verts3, faces3, _, _ = skimage.measure.marching_cubes((seg_true!=0) & (seg_pred==1), 0.5)"
   ]
  },
  {
   "cell_type": "code",
   "execution_count": null,
   "id": "e061b7bc",
   "metadata": {},
   "outputs": [],
   "source": [
    "fig_slice = vvp.volume_slicer(vol, [None, 'mid', None], show=False, title='middle ct-slice',width=1200, height=1100)\n",
    "fig_slice_label = vvp.show_mesh(verts1, faces1, fig=fig_slice, show=False, surface_color='red', wireframe_opacity=.5,surface_opacity=.5)\n",
    "fig_slice_label_pred = vvp.show_mesh(verts2, faces2, fig=fig_slice_label, show=False,surface_color='green', wireframe_opacity=.5,surface_opacity=.5)\n",
    "fig_slice_label_pred_overlap = vvp.show_mesh(verts3, faces3, fig=fig_slice_label_pred, show=False,surface_color='blue', wireframe_opacity=1,surface_opacity=1)\n",
    "\n"
   ]
  },
  {
   "cell_type": "code",
   "execution_count": null,
   "id": "b4cdf7e9",
   "metadata": {},
   "outputs": [],
   "source": [
    "fig_slice_label_pred_overlap.write_html('../data/notebooks/rat_37_output.html')\n"
   ]
  },
  {
   "cell_type": "code",
   "execution_count": null,
   "id": "6466c0bc",
   "metadata": {
    "scrolled": false
   },
   "outputs": [],
   "source": [
    "fig_slice_label_pred_overlap.show()\n"
   ]
  },
  {
   "cell_type": "code",
   "execution_count": null,
   "id": "8e200e77",
   "metadata": {},
   "outputs": [],
   "source": []
  },
  {
   "cell_type": "markdown",
   "id": "4bda6a66",
   "metadata": {},
   "source": [
    "### seg_pred to largest connected component"
   ]
  },
  {
   "cell_type": "code",
   "execution_count": null,
   "id": "d3a83795",
   "metadata": {},
   "outputs": [],
   "source": [
    "import numpy as np\n",
    "from skimage.measure import label   \n",
    "\n",
    "def getLargestCC(segmentation):\n",
    "    labels = label(segmentation)\n",
    "    assert( labels.max() != 0 ) # assume at least 1 CC\n",
    "    largestCC = labels == np.argmax(np.bincount(labels.flat)[1:])+1\n",
    "    return largestCC\n",
    "\n",
    "seg_pred = np.array(lab_pred.get_fdata()).transpose((2, 1, 0))\n",
    "seg_pred = getLargestCC(seg_pred) # first calculate LCC\n",
    "seg_pred = rescale(seg_pred, downscale_coeff, anti_aliasing=anti_aliasing)\n",
    "\n",
    "\n",
    "# Use marching cubes to obtain the surface mesh \n",
    "verts1, faces1, _, _ = skimage.measure.marching_cubes(seg_true!=0, 0.5)\n",
    "verts2, faces2, _, _ = skimage.measure.marching_cubes(seg_pred==1, 0.5)\n",
    "verts3, faces3, _, _ = skimage.measure.marching_cubes((seg_true!=0) & (seg_pred==1), 0.5)\n",
    "\n",
    "fig_slice = vvp.volume_slicer(vol, [None, 'mid', None], show=False, title='middle ct-slice',width=1200, height=1100)\n",
    "fig_slice_label = vvp.show_mesh(verts1, faces1, fig=None, show=False, surface_color='red', wireframe_opacity=1,surface_opacity=1)\n",
    "fig_slice_label_pred = vvp.show_mesh(verts2, faces2, fig=fig_slice_label, show=False,surface_color='green', wireframe_opacity=1,surface_opacity=1)\n",
    "fig_slice_label_pred_overlap = vvp.show_mesh(verts3, faces3, fig=fig_slice_label_pred, show=False,surface_color='yellow', wireframe_opacity=1,surface_opacity=1)\n",
    "\n",
    "fig_slice_label_pred_overlap.show()"
   ]
  },
  {
   "cell_type": "code",
   "execution_count": null,
   "id": "7272abd1",
   "metadata": {},
   "outputs": [],
   "source": [
    "fig_slice_label_pred_overlap.write_html('../data/notebooks/rat_37_output_lcc.html')"
   ]
  },
  {
   "cell_type": "code",
   "execution_count": null,
   "id": "41932f28",
   "metadata": {},
   "outputs": [],
   "source": []
  }
 ],
 "metadata": {
  "kernelspec": {
   "display_name": "Python 3 (ipykernel)",
   "language": "python",
   "name": "python3"
  },
  "language_info": {
   "codemirror_mode": {
    "name": "ipython",
    "version": 3
   },
   "file_extension": ".py",
   "mimetype": "text/x-python",
   "name": "python",
   "nbconvert_exporter": "python",
   "pygments_lexer": "ipython3",
   "version": "3.7.14"
  }
 },
 "nbformat": 4,
 "nbformat_minor": 5
}
