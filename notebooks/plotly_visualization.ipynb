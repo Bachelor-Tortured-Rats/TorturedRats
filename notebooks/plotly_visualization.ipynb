{
 "cells": [
  {
   "cell_type": "code",
   "execution_count": 1,
   "id": "4b499ba0",
   "metadata": {},
   "outputs": [],
   "source": [
    "###\n",
    "### Original script from: Vedrana Andersen Dahl\n",
    "###\n",
    "\n",
    "# Load packages.\n",
    "import numpy as np\n",
    "import plotly.graph_objects as go\n",
    "import numpy as np\n",
    "import torch\n",
    "import skimage.measure\n",
    "import nibabel as nib\n",
    "from skimage.transform import rescale\n",
    "import numpy as np\n",
    "from skimage.measure import label  \n",
    "\n",
    "import notebooks.volvizplotly as vpp"
   ]
  },
  {
   "attachments": {},
   "cell_type": "markdown",
   "id": "dbbe2e49",
   "metadata": {
    "editable": true,
    "jp-MarkdownHeadingCollapsed": true,
    "slideshow": {
     "slide_type": ""
    },
    "tags": []
   },
   "source": [
    "# Visualization of hepaticvessel_004"
   ]
  },
  {
   "attachments": {},
   "cell_type": "markdown",
   "id": "86e28b61-4849-4e01-9449-9a22adb9b7d4",
   "metadata": {},
   "source": [
    "### loading img and label"
   ]
  },
  {
   "cell_type": "code",
   "execution_count": null,
   "id": "f679be05-ef5a-4714-99a9-46bb4e32219c",
   "metadata": {},
   "outputs": [],
   "source": [
    "img = nib.load(f'/zhome/a2/4/155672/Desktop/Bachelor/Task08_HepaticVessel/imagesTr/hepaticvessel_{image_number}.nii.gz')\n",
    "lab_true = nib.load(f'/zhome/a2/4/155672/Desktop/Bachelor/Task08_HepaticVessel/labelsTr/hepaticvessel_{image_number}.nii.gz')\n",
    "\n",
    "vol = np.array(img.get_fdata()).transpose((2, 1, 0))\n",
    "vol = rescale(vol, downscale_coeff, anti_aliasing=anti_aliasing)\n",
    "\n",
    "seg_true = np.array(lab_true.get_fdata()).transpose((2, 1, 0))\n",
    "seg_true = rescale(seg_true, downscale_coeff, anti_aliasing=anti_aliasing)\n",
    "seg_true_verts, seg_true_faces, _, _ = skimage.measure.marching_cubes(seg_true==1, 0.5)\n"
   ]
  },
  {
   "cell_type": "code",
   "execution_count": null,
   "id": "165e98ab",
   "metadata": {
    "scrolled": true
   },
   "outputs": [],
   "source": [
    "fig = vvp.volume_slicer(vol, ['mid', None, None], show=False,width=1200, height=1200, axisscaling=axisscale,title='middle ct-slice',camera=camera)\n",
    "fig = vvp.show_mesh(seg_true_verts, seg_true_faces, fig=fig, show=False, surface_color='red', wireframe_opacity=.5,surface_opacity=.5)\n",
    "fig.write_html('../data/notebooks/plotly_visualization/label.html')"
   ]
  },
  {
   "attachments": {},
   "cell_type": "markdown",
   "id": "1fff2631-4b10-457c-b5d8-3f1835f0621a",
   "metadata": {},
   "source": [
    "### Loading model predictions and saves visualizzation"
   ]
  },
  {
   "cell_type": "code",
   "execution_count": null,
   "id": "947057b7-beac-429a-ac46-a5a841bdea27",
   "metadata": {
    "scrolled": true
   },
   "outputs": [],
   "source": [
    "seg_pred = nib.load(f'../reports/save_prediction_mask/3drpl_lp_1.0/hepaticvessel_{image_number}/hepaticvessel_{image_number}_seg.nii.gz')\n",
    "\n",
    "seg_pred = np.array(seg_pred.get_fdata()).transpose((2, 1, 0))\n",
    "seg_pred = rescale(seg_pred, downscale_coeff, anti_aliasing=anti_aliasing)\n",
    "seg_pred_verts, seg_pred_faces, _, _ = skimage.measure.marching_cubes(seg_pred==1, 0.5)\n",
    "overlap_verts, overlap_faces3, _, _ = skimage.measure.marching_cubes((seg_true!=0) & (seg_pred==1), 0.5)\n",
    "\n",
    "fig = vvp.volume_slicer(vol, ['mid', None, None], show=False,width=1200, height=1200, axisscaling=axisscale,title='middle ct-slice',camera=camera)\n",
    "fig = vvp.show_mesh(seg_true_verts, seg_true_faces, fig=fig, show=False, surface_color='red', wireframe_opacity=.5,surface_opacity=.5)\n",
    "fig = vvp.show_mesh(seg_pred_verts, seg_pred_faces, fig=fig, show=False,surface_color='green', wireframe_opacity=.5,surface_opacity=.5)\n",
    "fig = vvp.show_mesh(overlap_verts, overlap_faces3, fig=fig, show=False,surface_color='blue', wireframe_opacity=1,surface_opacity=1)\n",
    "fig.write_html('../data/notebooks/plotly_visualization/3drpl_lp_100.html')\n",
    "#fig.show()"
   ]
  },
  {
   "cell_type": "code",
   "execution_count": null,
   "id": "37afc07f-d762-4a2e-aff2-72b1798660ca",
   "metadata": {},
   "outputs": [],
   "source": [
    "seg_pred = nib.load(f'../reports/save_prediction_mask/3drpl_lp_0.02/hepaticvessel_{image_number}/hepaticvessel_{image_number}_seg.nii.gz')\n",
    "\n",
    "seg_pred = np.array(seg_pred.get_fdata()).transpose((2, 1, 0))\n",
    "seg_pred = rescale(seg_pred, downscale_coeff, anti_aliasing=anti_aliasing)\n",
    "seg_pred_verts, seg_pred_faces, _, _ = skimage.measure.marching_cubes(seg_pred==1, 0.5)\n",
    "overlap_verts, overlap_faces3, _, _ = skimage.measure.marching_cubes((seg_true!=0) & (seg_pred==1), 0.5)\n",
    "\n",
    "fig = vvp.volume_slicer(vol, ['mid', None, None], show=False,width=1200, height=1200, axisscaling=axisscale,title='middle ct-slice',camera=camera)\n",
    "fig = vvp.show_mesh(seg_true_verts, seg_true_faces, fig=fig, show=False, surface_color='red', wireframe_opacity=.5,surface_opacity=.5)\n",
    "fig = vvp.show_mesh(seg_pred_verts, seg_pred_faces, fig=fig, show=False,surface_color='green', wireframe_opacity=.5,surface_opacity=.5)\n",
    "fig = vvp.show_mesh(overlap_verts, overlap_faces3, fig=fig, show=False,surface_color='blue', wireframe_opacity=1,surface_opacity=1)\n",
    "fig.write_html('../data/notebooks/plotly_visualization/3drpl_lp_002.html')"
   ]
  },
  {
   "cell_type": "code",
   "execution_count": null,
   "id": "e1e2ddde-685d-44e2-bae8-259e18a8fa73",
   "metadata": {},
   "outputs": [],
   "source": [
    "seg_pred = nib.load(f'../reports/save_prediction_mask/transfer_lp_1.0/hepaticvessel_{image_number}/hepaticvessel_{image_number}_seg.nii.gz')\n",
    "\n",
    "seg_pred = np.array(seg_pred.get_fdata()).transpose((2, 1, 0))\n",
    "seg_pred = rescale(seg_pred, downscale_coeff, anti_aliasing=anti_aliasing)\n",
    "seg_pred_verts, seg_pred_faces, _, _ = skimage.measure.marching_cubes(seg_pred==1, 0.5)\n",
    "overlap_verts, overlap_faces3, _, _ = skimage.measure.marching_cubes((seg_true!=0) & (seg_pred==1), 0.5)\n",
    "\n",
    "fig = vvp.volume_slicer(vol, ['mid', None, None], show=False,width=1200, height=1200, axisscaling=axisscale,title='middle ct-slice',camera=camera)\n",
    "fig = vvp.show_mesh(seg_true_verts, seg_true_faces, fig=fig, show=False, surface_color='red', wireframe_opacity=.5,surface_opacity=.5)\n",
    "fig = vvp.show_mesh(seg_pred_verts, seg_pred_faces, fig=fig, show=False,surface_color='green', wireframe_opacity=.5,surface_opacity=.5)\n",
    "fig = vvp.show_mesh(overlap_verts, overlap_faces3, fig=fig, show=False,surface_color='blue', wireframe_opacity=1,surface_opacity=1)\n",
    "fig.write_html('../data/notebooks/plotly_visualization/transfer_lp_100.html')"
   ]
  },
  {
   "cell_type": "code",
   "execution_count": null,
   "id": "153a2db1-5508-4f86-ae91-50d87298306d",
   "metadata": {},
   "outputs": [],
   "source": [
    "seg_pred = nib.load(f'../reports/save_prediction_mask/transfer_lp_0.02/hepaticvessel_{image_number}/hepaticvessel_{image_number}_seg.nii.gz')\n",
    "\n",
    "seg_pred = np.array(seg_pred.get_fdata()).transpose((2, 1, 0))\n",
    "seg_pred = rescale(seg_pred, downscale_coeff, anti_aliasing=anti_aliasing)\n",
    "seg_pred_verts, seg_pred_faces, _, _ = skimage.measure.marching_cubes(seg_pred==1, 0.5)\n",
    "overlap_verts, overlap_faces3, _, _ = skimage.measure.marching_cubes((seg_true!=0) & (seg_pred==1), 0.5)\n",
    "\n",
    "fig = vvp.volume_slicer(vol, ['mid', None, None], show=False,width=1200, height=1200, axisscaling=axisscale,title='middle ct-slice',camera=camera)\n",
    "fig = vvp.show_mesh(seg_true_verts, seg_true_faces, fig=fig, show=False, surface_color='red', wireframe_opacity=.5,surface_opacity=.5)\n",
    "fig = vvp.show_mesh(seg_pred_verts, seg_pred_faces, fig=fig, show=False,surface_color='green', wireframe_opacity=.5,surface_opacity=.5)\n",
    "fig = vvp.show_mesh(overlap_verts, overlap_faces3, fig=fig, show=False,surface_color='blue', wireframe_opacity=1,surface_opacity=1)\n",
    "fig.write_html('../data/notebooks/plotly_visualization/transfer_lp_002.html')"
   ]
  },
  {
   "cell_type": "code",
   "execution_count": null,
   "id": "38ca087d-20a4-4779-aef3-e32df8e5c1c2",
   "metadata": {},
   "outputs": [],
   "source": [
    "seg_pred = nib.load(f'../reports/save_prediction_mask/random_lp_1.0/hepaticvessel_{image_number}/hepaticvessel_{image_number}_seg.nii.gz')\n",
    "\n",
    "seg_pred = np.array(seg_pred.get_fdata()).transpose((2, 1, 0))\n",
    "seg_pred = rescale(seg_pred, downscale_coeff, anti_aliasing=anti_aliasing)\n",
    "seg_pred_verts, seg_pred_faces, _, _ = skimage.measure.marching_cubes(seg_pred==1, 0.5)\n",
    "overlap_verts, overlap_faces3, _, _ = skimage.measure.marching_cubes((seg_true!=0) & (seg_pred==1), 0.5)\n",
    "\n",
    "fig = vvp.volume_slicer(vol, ['mid', None, None], show=False,width=1200, height=1200, axisscaling=axisscale,title='middle ct-slice',camera=camera)\n",
    "fig = vvp.show_mesh(seg_true_verts, seg_true_faces, fig=fig, show=False, surface_color='red', wireframe_opacity=.5,surface_opacity=.5)\n",
    "fig = vvp.show_mesh(seg_pred_verts, seg_pred_faces, fig=fig, show=False,surface_color='green', wireframe_opacity=.5,surface_opacity=.5)\n",
    "fig = vvp.show_mesh(overlap_verts, overlap_faces3, fig=fig, show=False,surface_color='blue', wireframe_opacity=1,surface_opacity=1)\n",
    "fig.write_html('../data/notebooks/plotly_visualization/random_lp_100.html')"
   ]
  },
  {
   "cell_type": "code",
   "execution_count": null,
   "id": "58347048-9d03-4ef3-917a-8503de40b9e3",
   "metadata": {},
   "outputs": [],
   "source": [
    "seg_pred = nib.load(f'../reports/save_prediction_mask/random_lp_0.02/hepaticvessel_{image_number}/hepaticvessel_{image_number}_seg.nii.gz')\n",
    "\n",
    "seg_pred = np.array(seg_pred.get_fdata()).transpose((2, 1, 0))\n",
    "seg_pred = rescale(seg_pred, downscale_coeff, anti_aliasing=anti_aliasing)\n",
    "seg_pred_verts, seg_pred_faces, _, _ = skimage.measure.marching_cubes(seg_pred==1, 0.5)\n",
    "overlap_verts, overlap_faces3, _, _ = skimage.measure.marching_cubes((seg_true!=0) & (seg_pred==1), 0.5)\n",
    "\n",
    "fig = vvp.volume_slicer(vol, ['mid', None, None], show=False,width=1200, height=1200, axisscaling=axisscale,title='middle ct-slice',camera=camera)\n",
    "fig = vvp.show_mesh(seg_true_verts, seg_true_faces, fig=fig, show=False, surface_color='red', wireframe_opacity=.5,surface_opacity=.5)\n",
    "fig = vvp.show_mesh(seg_pred_verts, seg_pred_faces, fig=fig, show=False,surface_color='green', wireframe_opacity=.5,surface_opacity=.5)\n",
    "fig = vvp.show_mesh(overlap_verts, overlap_faces3, fig=fig, show=False,surface_color='blue', wireframe_opacity=1,surface_opacity=1)\n",
    "fig.write_html('../data/notebooks/plotly_visualization/random_lp_002.html')"
   ]
  },
  {
   "cell_type": "code",
   "execution_count": null,
   "id": "1e7891dd",
   "metadata": {},
   "outputs": [],
   "source": [
    "# Plot threshold prediction \n",
    "a_min=-58,\n",
    "a_max=478,\n",
    "vol_rescaled = vol.clip(a_min,a_max)\n",
    "vol_rescaled = (vol_rescaled-np.min(vol_rescaled)) / (np.max(vol_rescaled)-np.min(vol_rescaled))\n",
    "threshold_lower = 0.4\n",
    "threshold_upper = 0.49\n",
    "seg_pred = np.logical_and(vol_rescaled >= threshold_lower, vol_rescaled<= threshold_upper)[:,:,:]     \n",
    "seg_pred_verts, seg_pred_faces, _, _ = skimage.measure.marching_cubes(seg_pred==1, 0.5)\n",
    "overlap_verts, overlap_faces3, _, _ = skimage.measure.marching_cubes((seg_true!=0) & (seg_pred==1), 0.5)\n",
    "\n",
    "fig_threshold = vvp.volume_slicer(vol, ['mid', None, None], show=False,width=1200, height=1200, axisscaling=axisscale,title='middle ct-slice',camera=camera)\n",
    "fig_threshold = vvp.show_mesh(seg_true_verts, seg_true_faces, fig=fig_threshold, show=False, surface_color='red', wireframe_opacity=.5,surface_opacity=.5)\n",
    "fig_threshold = vvp.show_mesh(seg_pred_verts, seg_pred_faces, fig=fig_threshold, show=False,surface_color='green', wireframe_opacity=.5,surface_opacity=.5)\n",
    "fig_threshold = vvp.show_mesh(overlap_verts, overlap_faces3, fig=fig_threshold, show=False,surface_color='blue', wireframe_opacity=1,surface_opacity=1)\n",
    "fig_threshold.write_html('../data/notebooks/plotly_visualization/threshold.html')"
   ]
  },
  {
   "attachments": {},
   "cell_type": "markdown",
   "id": "50eaefc7",
   "metadata": {},
   "source": [
    "# Visualization of Rat 37"
   ]
  },
  {
   "cell_type": "code",
   "execution_count": 14,
   "id": "8208d942-b8fd-4aa9-8bc5-ec02454dfc93",
   "metadata": {},
   "outputs": [],
   "source": [
    "camera = dict(\n",
    "    up=dict(x=0, y=0, z=1),\n",
    "    center=dict(x=0, y=0, z=0),\n",
    "    eye=dict(x=-.6, y=2.1, z=.3)\n",
    ")\n",
    "\n",
    "downscale_coeff = 0.3\n",
    "anti_aliasing= False\n",
    "crop_to_mask = False\n",
    "crop_to_pred = True\n",
    "lcc = False\n",
    "threshold = False"
   ]
  },
  {
   "attachments": {},
   "cell_type": "markdown",
   "id": "9bf6e99a-561a-427e-b575-9ab13431fddb",
   "metadata": {},
   "source": [
    "### Create front cover"
   ]
  },
  {
   "cell_type": "code",
   "execution_count": 14,
   "id": "a1b4f5b9",
   "metadata": {},
   "outputs": [],
   "source": [
    "train_images = f'/dtu/3d-imaging-center/projects/2020_QIM_22_rat_kidney/analysis/analysis_rat37/rat37_reorient.nii.gz'\n",
    "lab_pred = nib.load('reports/save_prediction_mask/transfer/rat37_reorient/rat37_reorient_seg.nii.gz')\n",
    "\n",
    "img = nib.load(train_images)\n",
    "lab_pred = nib.load('reports/save_prediction_mask/old/rat37_reorient/rat37_reorient_seg.nii.gz')\n",
    "\n",
    "vol_fdata = np.array(img.get_fdata()).transpose((2, 1, 0))\n",
    "lab_pred_fdata =  np.array(lab_pred.get_fdata()).transpose((2, 1, 0))"
   ]
  },
  {
   "cell_type": "code",
   "execution_count": null,
   "id": "11a3531c",
   "metadata": {},
   "outputs": [],
   "source": [
    "vol = rescale(vol_fdata, downscale_coeff, anti_aliasing=anti_aliasing)\n",
    "seg_pred = rescale(lab_pred_fdata, downscale_coeff, anti_aliasing=anti_aliasing)"
   ]
  },
  {
   "cell_type": "code",
   "execution_count": null,
   "id": "d18d0d00",
   "metadata": {},
   "outputs": [],
   "source": [
    "# Use marching cubes to obtain the surface mesh \n",
    "verts2, faces2, _, _ = skimage.measure.marching_cubes(seg_pred==1, 0.5)"
   ]
  },
  {
   "cell_type": "code",
   "execution_count": null,
   "id": "aaaba360",
   "metadata": {},
   "outputs": [],
   "source": [
    "fig = vpp.volume_slicer(vol, [None, 'mid', None], show=False, title='middle ct-slice',width=1200, height=1200, camera=camera)\n",
    "fig = vpp.show_mesh(verts2, faces2, fig=fig, show=False,surface_color='green', wireframe_opacity=.5,surface_opacity=.5)"
   ]
  },
  {
   "cell_type": "code",
   "execution_count": null,
   "id": "c21124f5",
   "metadata": {},
   "outputs": [],
   "source": [
    "fig.write_html('data/notebooks/plotly_visualization/front_cover.html')"
   ]
  },
  {
   "attachments": {},
   "cell_type": "markdown",
   "id": "0f2b6e7b-b97c-4241-96a1-d057dae99580",
   "metadata": {
    "jp-MarkdownHeadingCollapsed": true
   },
   "source": [
    "### Create labels"
   ]
  },
  {
   "cell_type": "code",
   "execution_count": null,
   "id": "5d25b468-25cf-4957-ad05-5fac5b72b987",
   "metadata": {},
   "outputs": [],
   "source": [
    "train_images = f'/dtu/3d-imaging-center/projects/2020_QIM_22_rat_kidney/analysis/analysis_rat37/rat37_reorient.nii.gz'\n",
    "train_labels = f'/dtu/3d-imaging-center/projects/2020_QIM_22_rat_kidney/analysis/analysis_rat37/vessel_zoom_ground_truth-ish_rat37_v2.nii.gz'\n",
    "train_masks = f'/dtu/3d-imaging-center/projects/2020_QIM_22_rat_kidney/analysis/study_diabetic/maskKidney/rat37_kidneyMaskProc.nii.gz'\n",
    "\n",
    "img = nib.load(train_images)\n",
    "img_mask = nib.load(train_masks)\n",
    "lab_true = nib.load(train_labels)\n",
    "\n",
    "vol_fdata = np.array(img.get_fdata()).transpose((2, 1, 0))\n",
    "vol_mask_fdata = np.array(img_mask.get_fdata()).transpose((2, 1, 0))\n",
    "seg_true_fdata = np.array(lab_true.get_fdata()).transpose((2, 1, 0))"
   ]
  },
  {
   "cell_type": "code",
   "execution_count": null,
   "id": "1f9e925b-7d64-4c79-9f67-de08bdda0455",
   "metadata": {},
   "outputs": [],
   "source": [
    "vol = rescale(vol_fdata, downscale_coeff, anti_aliasing=anti_aliasing)\n",
    "print('rescale')\n",
    "vol_mask = rescale(vol_mask_fdata, downscale_coeff, anti_aliasing=anti_aliasing)\n",
    "print('rescale')\n",
    "seg_true = rescale(seg_true_fdata, downscale_coeff, anti_aliasing=anti_aliasing)\n",
    "print('rescale')"
   ]
  },
  {
   "cell_type": "code",
   "execution_count": null,
   "id": "035e1221-dd88-4874-94c6-f6b2e949ceca",
   "metadata": {},
   "outputs": [],
   "source": [
    "verts1, faces1, _, _ = skimage.measure.marching_cubes(seg_true!=0, 0.1)\n",
    "fig_slice_label = vpp.show_mesh(verts1, faces1, fig=None, show=False, surface_color='red', wireframe_opacity=.5,surface_opacity=.5,camera=camera)\n",
    "fig_slice_label.write_html('../data/notebooks/post/rat_7_labels.html')\n"
   ]
  },
  {
   "attachments": {},
   "cell_type": "markdown",
   "id": "ee783171-6269-4983-8db6-296c16a74a52",
   "metadata": {},
   "source": [
    "### Create 3d visualizations"
   ]
  },
  {
   "cell_type": "code",
   "execution_count": 15,
   "id": "7d5377c2",
   "metadata": {},
   "outputs": [],
   "source": [
    "train_images = f'/dtu/3d-imaging-center/projects/2020_QIM_22_rat_kidney/analysis/analysis_rat37/rat37_reorient.nii.gz'\n",
    "train_labels = f'/dtu/3d-imaging-center/projects/2020_QIM_22_rat_kidney/analysis/analysis_rat37/vessel_zoom_ground_truth-ish_rat37_v2.nii.gz'\n",
    "train_masks = f'/dtu/3d-imaging-center/projects/2020_QIM_22_rat_kidney/analysis/study_diabetic/maskKidney/rat37_kidneyMaskProc.nii.gz'\n",
    "\n",
    "img = nib.load(train_images)\n",
    "img_mask = nib.load(train_masks)\n",
    "lab_true = nib.load(train_labels)\n",
    "lab_pred = nib.load('reports/post/save_prediction_mask/transfer/rat37_reorient/rat37_reorient_seg.nii.gz')\n",
    "\n",
    "vol_fdata = np.array(img.get_fdata()).transpose((2, 1, 0))\n",
    "vol_mask_fdata = np.array(img_mask.get_fdata()).transpose((2, 1, 0))\n",
    "seg_true_fdata = np.array(lab_true.get_fdata()).transpose((2, 1, 0))\n",
    "lab_pred_fdata =  np.array(lab_pred.get_fdata()).transpose((2, 1, 0))"
   ]
  },
  {
   "cell_type": "code",
   "execution_count": 16,
   "id": "c5876c4f",
   "metadata": {},
   "outputs": [
    {
     "name": "stdout",
     "output_type": "stream",
     "text": [
      "rescale\n",
      "rescale\n",
      "rescale\n",
      "rescale\n"
     ]
    }
   ],
   "source": [
    "# vol = rescale(vol_fdata, downscale_coeff, anti_aliasing=anti_aliasing)\n",
    "# print('rescale')\n",
    "# vol_mask = rescale(vol_mask_fdata, downscale_coeff, anti_aliasing=anti_aliasing)\n",
    "# print('rescale')\n",
    "# seg_true = rescale(seg_true_fdata, downscale_coeff, anti_aliasing=anti_aliasing)\n",
    "# print('rescale')\n",
    "lab_pred = rescale(lab_pred_fdata, downscale_coeff, anti_aliasing=anti_aliasing)\n",
    "print('rescale')"
   ]
  },
  {
   "cell_type": "code",
   "execution_count": 17,
   "id": "e9d38216-4258-4574-80e9-d78a7f7a3a18",
   "metadata": {},
   "outputs": [],
   "source": [
    "# Use marching cubes to obtain the surface mesh \n",
    "# verts1, faces1, _, _ = skimage.measure.marching_cubes(seg_true!=0, 0.1)\n",
    "verts2, faces2, _, _ = skimage.measure.marching_cubes(lab_pred==1, 0.5)\n",
    "# verts3, faces3, _, _ = skimage.measure.marching_cubes((seg_true!=0) & (lab_pred==1), 0.5)"
   ]
  },
  {
   "cell_type": "code",
   "execution_count": 18,
   "id": "1968f394-5369-4095-b04e-a7421f9ddcbc",
   "metadata": {},
   "outputs": [],
   "source": [
    "#fig = vvp.volume_slicer(vol, [None, 'mid', None], show=False, title='middle ct-slice',width=1200, height=1200)\n",
    "# fig = vpp.show_mesh(verts1, faces1, fig=None, show=False, surface_color='red', wireframe_opacity=.5,surface_opacity=.5,camera=camera)\n",
    "fig = vpp.show_mesh(verts2, faces2, fig=None, show=False,surface_color='green', wireframe_opacity=.5,surface_opacity=.5)\n",
    "# fig = vpp.show_mesh(verts3, faces3, fig=fig, show=False,surface_color='blue', wireframe_opacity=1,surface_opacity=1)"
   ]
  },
  {
   "cell_type": "code",
   "execution_count": 19,
   "id": "2ffcb01a-b823-443f-8855-49ef2720e2c3",
   "metadata": {},
   "outputs": [],
   "source": [
    "fig.write_html('data/notebooks/post/rat_7_model_16837332.html')"
   ]
  },
  {
   "attachments": {},
   "cell_type": "markdown",
   "id": "45369b33-3287-40c0-81be-3c64c48bb184",
   "metadata": {
    "jp-MarkdownHeadingCollapsed": true
   },
   "source": [
    "# OLD"
   ]
  },
  {
   "cell_type": "code",
   "execution_count": null,
   "id": "4b7551b7-8a04-4592-aec8-dba1bf0cfee7",
   "metadata": {},
   "outputs": [],
   "source": []
  },
  {
   "cell_type": "code",
   "execution_count": null,
   "id": "c0fb14de-6314-426f-969b-ad18d3fed9b5",
   "metadata": {},
   "outputs": [],
   "source": []
  },
  {
   "cell_type": "code",
   "execution_count": null,
   "id": "12acc5fc-23b1-4e9b-8ffd-c5ba584cc634",
   "metadata": {},
   "outputs": [],
   "source": []
  },
  {
   "cell_type": "code",
   "execution_count": null,
   "id": "629b7c49",
   "metadata": {},
   "outputs": [],
   "source": [
    "# if threshold:\n",
    "#     seg_pred = vol_fdata > 120\n",
    "# else:\n",
    "#     seg_pred = lab_pred_fdata\n",
    "        \n",
    "# if lcc:\n",
    "#     seg_pred = getLargestCC(seg_pred) # first calculate LCC\n",
    "#     seg_pred = rescale(seg_pred, downscale_coeff, anti_aliasing=anti_aliasing)\n",
    "# else:\n",
    "seg_pred = rescale(lab_pred_fdata, downscale_coeff, anti_aliasing=anti_aliasing)\n"
   ]
  },
  {
   "cell_type": "code",
   "execution_count": null,
   "id": "63a76082",
   "metadata": {},
   "outputs": [],
   "source": [
    "seg_pred_backup =  seg_pred.copy()\n",
    "\n",
    "\n",
    "\n"
   ]
  },
  {
   "cell_type": "code",
   "execution_count": null,
   "id": "00e9a57c",
   "metadata": {},
   "outputs": [],
   "source": [
    "seg_pred = vol > 120"
   ]
  },
  {
   "cell_type": "code",
   "execution_count": null,
   "id": "11e25efe-c5bb-4697-8d63-93d3ee704ff5",
   "metadata": {},
   "outputs": [],
   "source": [
    "crop_to_mask = True\n",
    "if crop_to_mask:\n",
    "    # Cropping to xy-bounding box of labels\n",
    "    bb = vol_mask.any(axis=0)\n",
    "    x = np.where(bb.any(axis=0))[0]\n",
    "    y = np.where(bb.any(axis=1))[0]\n",
    "    vol_crop =           vol[:, y[0]: y[-1], x[0]: x[-1]]\n",
    "    seg_pred_crop = seg_pred[:, y[0]: y[-1], x[0]: x[-1]]\n",
    "    seg_true_crop = seg_true[:, y[0]: y[-1], x[0]: x[-1]]\n",
    "    print('crop done crop_to_mask')\n",
    "\n",
    "# if crop_to_pred:\n",
    "#     # Cropping to xy-bounding box of labels\n",
    "#     bb = seg_true.any(axis=0)\n",
    "#     x = np.where(bb.any(axis=0))[0]\n",
    "#     y = np.where(bb.any(axis=1))[0]\n",
    "#     vol_crop =           vol[:, y[0]: y[-1], x[0]: x[-1]]\n",
    "#     seg_pred_crop = seg_pred[:, y[0]: y[-1], x[0]: x[-1]]\n",
    "#     seg_true_crop = seg_true[:, y[0]: y[-1], x[0]: x[-1]]\n",
    "    \n",
    "#     print('crop done crop_to_pred')"
   ]
  },
  {
   "cell_type": "code",
   "execution_count": null,
   "id": "788250aa-0902-45ce-85d6-16b8f84871c0",
   "metadata": {},
   "outputs": [],
   "source": [
    "seg_pred = getLargestCC(vol >= 120)"
   ]
  },
  {
   "cell_type": "code",
   "execution_count": null,
   "id": "d986c604-0d57-43c9-adcc-21d5beda0979",
   "metadata": {},
   "outputs": [],
   "source": [
    "seg_pred = rescale(seg_pred, downscale_coeff, anti_aliasing=anti_aliasing)"
   ]
  },
  {
   "cell_type": "code",
   "execution_count": null,
   "id": "ba1de56b",
   "metadata": {},
   "outputs": [],
   "source": [
    "mask_scale = seg_true\n",
    "masked_arr = mask_scale * seg_pred\n",
    "\n",
    "true_points = np.argwhere(masked_arr)\n",
    "top_left = true_points.min(axis=0)\n",
    "bottom_right = true_points.max(axis=0)\n",
    "\n",
    "# Crop the array based on the determined corners\n",
    "seg_pred_crop = masked_arr[top_left[0]:bottom_right[0] + 1, top_left[1]:bottom_right[1] + 1, top_left[2]:bottom_right[2] + 1]\n",
    "print(seg_pred_crop.shape)\n",
    "\n",
    "print(top_left[0],bottom_right[0] + 1, top_left[1],bottom_right[1] + 1, top_left[2],bottom_right[2] + 1)\n",
    "\n",
    "vol_crop = vol[top_left[0]-10:bottom_right[0] + 1 +10, top_left[1] - 10:bottom_right[1] + 1 + 10, top_left[2] - 10:bottom_right[2] + 1 + 10]\n",
    "seg_pred_crop = seg_pred[top_left[0]-10:bottom_right[0] + 1 +10, top_left[1] - 10:bottom_right[1] + 1 + 10, top_left[2] - 10:bottom_right[2] + 1 + 10]\n",
    "seg_true_crop = seg_true[top_left[0]-10:bottom_right[0] + 1 +10, top_left[1] - 10:bottom_right[1] + 1 + 10, top_left[2] - 10:bottom_right[2] + 1 + 10]"
   ]
  },
  {
   "cell_type": "code",
   "execution_count": null,
   "id": "db4c8152",
   "metadata": {},
   "outputs": [],
   "source": []
  },
  {
   "cell_type": "code",
   "execution_count": null,
   "id": "30f826a9-d1de-430a-9cec-536767df6a95",
   "metadata": {},
   "outputs": [],
   "source": [
    "print(vol.shape)\n",
    "print(seg_true.shape)\n",
    "print(seg_pred.shape)\n",
    "print(vol_mask.shape)\n",
    "\n",
    "\n",
    "\n",
    "print(vol_crop.shape)\n",
    "print(seg_pred_crop.shape)\n",
    "print(seg_true_crop.shape)"
   ]
  },
  {
   "attachments": {},
   "cell_type": "markdown",
   "id": "ecf11521",
   "metadata": {},
   "source": [
    "### Plotting pred and label"
   ]
  },
  {
   "cell_type": "code",
   "execution_count": 6,
   "id": "4a0f0d82",
   "metadata": {},
   "outputs": [],
   "source": [
    "# Use marching cubes to obtain the surface mesh \n",
    "verts1, faces1, _, _ = skimage.measure.marching_cubes(seg_true!=0, 0.1)\n",
    "verts2, faces2, _, _ = skimage.measure.marching_cubes(lab_pred==1, 0.5)\n",
    "verts3, faces3, _, _ = skimage.measure.marching_cubes((seg_true!=0) & (lab_pred==1), 0.5)"
   ]
  },
  {
   "cell_type": "code",
   "execution_count": 14,
   "id": "3d854c6a-e60f-4994-956e-b5cbd0b2a4b4",
   "metadata": {
    "scrolled": true
   },
   "outputs": [],
   "source": [
    "fig_slice_label = vpp.show_mesh(verts1, faces1, fig=None, show=False, surface_color='red', wireframe_opacity=.5,surface_opacity=.5,camera=camera)\n"
   ]
  },
  {
   "cell_type": "code",
   "execution_count": 15,
   "id": "660787ec-e719-4472-a803-90488fdc4195",
   "metadata": {},
   "outputs": [],
   "source": [
    "fig_slice_label.write_html('../data/notebooks/post/rat_7_labels.html')"
   ]
  },
  {
   "cell_type": "code",
   "execution_count": 22,
   "id": "e061b7bc",
   "metadata": {},
   "outputs": [],
   "source": [
    "#fig_slice = vvp.volume_slicer(vol, [None, 'mid', None], show=False, title='middle ct-slice',width=1200, height=1200)\n",
    "fig_slice_label = vpp.show_mesh(verts1, faces1, fig=None, show=False, surface_color='red', wireframe_opacity=.5,surface_opacity=.5,camera=camera)\n",
    "fig_slice_label_pred = vpp.show_mesh(verts2, faces2, fig=fig_slice_label, show=False,surface_color='green', wireframe_opacity=.5,surface_opacity=.5)\n",
    "fig_slice_label_pred_overlap = vpp.show_mesh(verts3, faces3, fig=fig_slice_label_pred, show=False,surface_color='blue', wireframe_opacity=1,surface_opacity=1)"
   ]
  },
  {
   "cell_type": "code",
   "execution_count": null,
   "id": "b4cdf7e9",
   "metadata": {},
   "outputs": [],
   "source": [
    "fig_slice_label_pred_overlap.write_html('../data/notebooks/post/rat_7_model_16837332_step400.html')"
   ]
  },
  {
   "cell_type": "code",
   "execution_count": null,
   "id": "6466c0bc",
   "metadata": {},
   "outputs": [],
   "source": [
    "fig_slice_label_pred_overlap.show()\n"
   ]
  }
 ],
 "metadata": {
  "kernelspec": {
   "display_name": "Python 3 (ipykernel)",
   "language": "python",
   "name": "python3"
  }
 },
 "nbformat": 4,
 "nbformat_minor": 5
}
