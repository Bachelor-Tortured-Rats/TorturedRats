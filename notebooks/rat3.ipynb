{
 "metadata": {
  "language_info": {
   "codemirror_mode": {
    "name": "ipython",
    "version": 3
   },
   "file_extension": ".py",
   "mimetype": "text/x-python",
   "name": "python",
   "nbconvert_exporter": "python",
   "pygments_lexer": "ipython3",
   "version": "3.7.14-final"
  },
  "orig_nbformat": 2,
  "kernelspec": {
   "name": "Python 3.7.14 64-bit",
   "display_name": "Python 3.7.14 64-bit",
   "metadata": {
    "interpreter": {
     "hash": "bec5092a0305a4cef72de03c9e5df6b49a02ed966adfc27839acf10b935f3738"
    }
   }
  }
 },
 "nbformat": 4,
 "nbformat_minor": 2,
 "cells": [
  {
   "cell_type": "code",
   "execution_count": 5,
   "metadata": {},
   "outputs": [
    {
     "output_type": "error",
     "ename": "ModuleNotFoundError",
     "evalue": "No module named 'traditional_models'",
     "traceback": [
      "\u001b[0;31m---------------------------------------------------------------------------\u001b[0m",
      "\u001b[0;31mModuleNotFoundError\u001b[0m                       Traceback (most recent call last)",
      "\u001b[0;32m/tmp/ipykernel_14139/574178722.py\u001b[0m in \u001b[0;36m<module>\u001b[0;34m\u001b[0m\n\u001b[1;32m      5\u001b[0m \u001b[0;34m\u001b[0m\u001b[0m\n\u001b[1;32m      6\u001b[0m \u001b[0msys\u001b[0m\u001b[0;34m.\u001b[0m\u001b[0mpath\u001b[0m\u001b[0;34m.\u001b[0m\u001b[0mappend\u001b[0m\u001b[0;34m(\u001b[0m\u001b[0;34m\"/src/models\"\u001b[0m\u001b[0;34m)\u001b[0m\u001b[0;34m\u001b[0m\u001b[0;34m\u001b[0m\u001b[0m\n\u001b[0;32m----> 7\u001b[0;31m \u001b[0;32mfrom\u001b[0m \u001b[0mtraditional_models\u001b[0m \u001b[0;32mimport\u001b[0m \u001b[0;34m*\u001b[0m\u001b[0;34m\u001b[0m\u001b[0;34m\u001b[0m\u001b[0m\n\u001b[0m",
      "\u001b[0;31mModuleNotFoundError\u001b[0m: No module named 'traditional_models'"
     ]
    }
   ],
   "source": [
    "import nibabel as nib\n",
    "import sys\n",
    "\n",
    "import plot_functions \n",
    "\n",
    "sys.path.append(\"/src/models\")\n",
    "from traditional_models import *"
   ]
  },
  {
   "cell_type": "code",
   "execution_count": 2,
   "metadata": {},
   "outputs": [],
   "source": [
    "import numpy as np\n",
    "import matplotlib.pyplot as plt\n",
    "import matplotlib.animation as animation\n",
    "import colorsys\n",
    "import random\n",
    "from itertools import combinations\n",
    "import multiprocessing\n",
    "import threading\n",
    "\n",
    "def random_colors(N, bright=True):\n",
    "    \"\"\"\n",
    "    Generate random colors.\n",
    "    To get visually distinct colors, generate them in HSV space then\n",
    "    convert to RGB.\n",
    "    \"\"\"\n",
    "    brightness = 1.0 if bright else 0.7\n",
    "    hsv = [(i / N, 1, brightness) for i in range(N)]\n",
    "    colors = list(map(lambda c: colorsys.hsv_to_rgb(*c), hsv))\n",
    "    random.shuffle(colors)\n",
    "    return colors\n",
    "\n",
    "def apply_mask(image, mask, color, alpha=0.2):\n",
    "    \"\"\"Apply the given mask to the image.\n",
    "    \"\"\"\n",
    "\n",
    "    # The mask is drawn on the image.\n",
    "    for c in range(3):\n",
    "        image[:, :, c] = np.where(mask == 1, image[:, :, c] *\n",
    "                                     (1 - alpha) + alpha * color[c] * 255,\n",
    "                                     image[:, :, c])\n",
    "    return image\n",
    "\n",
    "def display_image(img, masks = None, colors = [(0, 0, 1)], alpha=0.2, display = False):\n",
    "\n",
    "    if not masks is None:\n",
    "\n",
    "        # The image is converted to a 3-channel RGB image to allow for colored masks to be added.\n",
    "        img = np.expand_dims(img, axis=2)\n",
    "        img = np.dstack([img] * 3)\n",
    "\n",
    "        # Ensure masks are  in a list\n",
    "        if type(masks) != list:\n",
    "            masks = [masks]\n",
    "\n",
    "        # Make sure colors are in a list\n",
    "        if type(colors) != list:\n",
    "            colors = [colors]\n",
    "\n",
    "        # If not all colors are defined, generate the remaining\n",
    "        if len(colors) < len(masks):\n",
    "            colors += random_colors(len(masks) - len(colors))\n",
    "\n",
    "        # If there are multiple masks, make the intersections clear\n",
    "        if len(masks) > 1:\n",
    "            num_masks = len(masks)\n",
    "\n",
    "            # Generate colors an masks for intersections by looping over every combination of masks\n",
    "            for comb in combinations(range(num_masks), 2):\n",
    "\n",
    "                # Find mask combination\n",
    "                maskA = masks[comb[0]]\n",
    "                maskB = masks[comb[1]]\n",
    "\n",
    "                # Calculate the intersection\n",
    "                intersect = maskA * maskB\n",
    "\n",
    "                # Add intersection as a seperate mask\n",
    "                masks.append(intersect)\n",
    "\n",
    "                # Remove intersections from the other masks\n",
    "                masks[comb[0]] = maskA - intersect\n",
    "                masks[comb[1]] = maskB - intersect\n",
    "\n",
    "                # Calculate the weighted average of the two masks\n",
    "                intersect_color = tuple(np.array(colors[comb[0]]) * 0.5 + np.array(colors[comb[1]]) * 0.5)\n",
    "\n",
    "                # Add the intersection color to the intersection mask\n",
    "                colors.append(intersect_color)\n",
    "\n",
    "        # Apply masks to image\n",
    "        for mask, color in zip(masks, colors):\n",
    "            img = apply_mask(img, mask, color, alpha)\n",
    "\n",
    "        # Make sure all values are integers\n",
    "        img = img.astype(\"int\")\n",
    "\n",
    "        if display:\n",
    "            plt.imshow(img)\n",
    "\n",
    "        else:\n",
    "            return img\n",
    "\n",
    "    else:\n",
    "\n",
    "        if display:\n",
    "            plt.imshow(img, cmap='gray')\n",
    "\n",
    "        else:\n",
    "            return img\n",
    "\n",
    "    plt.show()\n",
    "\n",
    "\n",
    "def animate_CT(img_3D, angle = 1, masks = None, colors = [(0, 0, 1)], alpha=0.2, animation_speed = 50, filename=\"slices\"):\n",
    "\n",
    "    # Defines the indexing of the CT_image depending on the chosen view angle.\n",
    "    dimension_choice = [\"[i, :, :]\",\n",
    "                        \"[:, i, :]\",\n",
    "                        \"[:, :, i]\"][angle]\n",
    "\n",
    "    num_slices = np.shape(img_3D)[angle]\n",
    "\n",
    "    # Ensure masks are  in a list\n",
    "    if type(masks) != list:\n",
    "        masks = [masks]\n",
    "\n",
    "    fig, ax = plt.subplots()\n",
    "    ims = []\n",
    "    \n",
    "    for i in range(num_slices):\n",
    "        img = eval(\"img_3D\" + dimension_choice)\n",
    "\n",
    "        # In case there is no mask we skip this part\n",
    "        if not masks[0] is None:\n",
    "            masks_2D = []\n",
    "            for mask in masks:\n",
    "                masks_2D.append(eval(\"mask\" + dimension_choice))\n",
    "\n",
    "        else:\n",
    "            masks_2D = None\n",
    "\n",
    "        im = ax.imshow(display_image(img, masks_2D, colors=colors, alpha=alpha, display=False), animated=True)\n",
    "        ims.append([im])\n",
    "        print(f\"{i + 1} / 1000\")\n",
    "\n",
    "\n",
    "    ani = animation.ArtistAnimation(fig, ims, interval=animation_speed, blit=True,\n",
    "                                    repeat_delay=1000)\n",
    "\n",
    "    ani.save(f\"{filename}.mp4\")\n",
    "\n",
    "\n",
    "\n",
    "def displaySlice(CT_image, angle, slice_depth, mask = None, alpha = 0.2, colors = (0, 0, 1)):\n",
    "    \"\"\"\n",
    "    Cuts a 2D slice from a 3D image and displays it as a grayscale image.\n",
    "    :numpy.ndarray CT_image: 3D image.\n",
    "    :int angle: 0,1 or 2 represents which axis the image is viewed from.\n",
    "    :int slice_depth: 0 to image depth. The index of the image along the angle axis.\n",
    "    :numpy.ndarray mask: A binary array of the same dimensions as CT_image indicating\n",
    "    the pixelwise segmentation\n",
    "    :alpha float: A number between 0 and 1 indicating the strength of the mask color compared\n",
    "    to the CT_image.\n",
    "    :color tuple: A three tuple of 0 to 1 values indicating the RGB mixture of red, green and\n",
    "    blue in the mask color.\n",
    "    \"\"\"\n",
    "\n",
    "    # Defines the indexing of the CT_image depending on the chosen view angle.\n",
    "    dimension_choice = [f\"[{slice_depth}, :, :]\",\n",
    "                        f\"[:, {slice_depth}, :]\",\n",
    "                        f\"[:, :, {slice_depth}]\"][angle]\n",
    "\n",
    "    # Redefines the CT_image as a 2D image corresponding to the selected slice and view.\n",
    "    CT_image = eval(\"CT_image\" + dimension_choice)\n",
    "\n",
    "    if not mask is None:\n",
    "        # If a mask is provided, the corresponding slice is made into the mask\n",
    "        mask = eval(\"mask\" + dimension_choice)\n",
    "\n",
    "    display_image(CT_image, mask, colors=colors, alpha=alpha, display=True)"
   ]
  },
  {
   "cell_type": "code",
   "execution_count": 3,
   "metadata": {},
   "outputs": [],
   "source": [
    "img = nib.load(\"/dtu/3d-imaging-center/projects/2020_QIM_22_rat_kidney/analysis/analysis_rat3/CT_rat3_kidneyProc.nii\")\n",
    "\n",
    "mask = nib.load(\"/dtu/3d-imaging-center/projects/2020_QIM_22_rat_kidney/analysis/analysis_rat3/Segmentation_21-04-2021.nii.gz\")"
   ]
  },
  {
   "cell_type": "code",
   "execution_count": 70,
   "metadata": {},
   "outputs": [
    {
     "output_type": "execute_result",
     "data": {
      "text/plain": [
       "0.999297047"
      ]
     },
     "metadata": {},
     "execution_count": 70
    }
   ],
   "source": [
    "1-np.count_nonzero(mask)/1000000000"
   ]
  },
  {
   "cell_type": "code",
   "execution_count": 4,
   "metadata": {},
   "outputs": [
    {
     "output_type": "error",
     "ename": "NameError",
     "evalue": "name 'threshold_3d' is not defined",
     "traceback": [
      "\u001b[0;31m---------------------------------------------------------------------------\u001b[0m",
      "\u001b[0;31mNameError\u001b[0m                                 Traceback (most recent call last)",
      "\u001b[0;32m/tmp/ipykernel_14139/2579652703.py\u001b[0m in \u001b[0;36m<module>\u001b[0;34m\u001b[0m\n\u001b[1;32m      5\u001b[0m \u001b[0;34m\u001b[0m\u001b[0m\n\u001b[1;32m      6\u001b[0m \u001b[0;31m#mask2 = mask.copy()\u001b[0m\u001b[0;34m\u001b[0m\u001b[0;34m\u001b[0m\u001b[0;34m\u001b[0m\u001b[0m\n\u001b[0;32m----> 7\u001b[0;31m \u001b[0mmask2\u001b[0m \u001b[0;34m=\u001b[0m \u001b[0mthreshold_3d\u001b[0m\u001b[0;34m(\u001b[0m\u001b[0mimg\u001b[0m\u001b[0;34m,\u001b[0m \u001b[0;36m70\u001b[0m\u001b[0;34m)\u001b[0m\u001b[0;34m\u001b[0m\u001b[0;34m\u001b[0m\u001b[0m\n\u001b[0m",
      "\u001b[0;31mNameError\u001b[0m: name 'threshold_3d' is not defined"
     ]
    }
   ],
   "source": [
    "img = img.get_fdata()\n",
    "mask = mask.get_fdata()\n",
    "result = np.zeros_like(mask)\n",
    "result[mask > 0] = 1\n",
    "\n",
    "#mask2 = mask.copy()\n",
    "mask2 = threshold_3d(img, 70) "
   ]
  },
  {
   "cell_type": "code",
   "execution_count": null,
   "metadata": {},
   "outputs": [],
   "source": [
    "\n",
    "\n",
    "#display_image(img[500,:,:], [mask1, mask2], colors=[(0, 0, 1), (1, 0, 0)], alpha=0.5, display=True)\n",
    "animate_CT(mask2[200:800, 300:700, :], angle=1, colors=[(0, 1, 0), (1, 0, 1)], alpha=1.0)"
   ]
  },
  {
   "cell_type": "code",
   "execution_count": null,
   "metadata": {},
   "outputs": [],
   "source": []
  },
  {
   "cell_type": "code",
   "execution_count": null,
   "metadata": {},
   "outputs": [],
   "source": []
  }
 ]
}